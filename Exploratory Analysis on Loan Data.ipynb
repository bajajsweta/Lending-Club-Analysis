{
 "cells": [
  {
   "cell_type": "code",
   "execution_count": 2,
   "metadata": {
    "collapsed": false
   },
   "outputs": [],
   "source": [
    "import pandas as pd\n",
    "import numpy as np\n",
    "import os\n",
    "import requests\n",
    "import zipfile\n",
    "import io\n",
    "import datetime \n"
   ]
  },
  {
   "cell_type": "code",
   "execution_count": 3,
   "metadata": {
    "collapsed": false
   },
   "outputs": [],
   "source": [
    "df = pd.DataFrame()\n",
    "df = pd.read_csv('LoanStats_Validated.csv',delimiter=',')"
   ]
  },
  {
   "cell_type": "code",
   "execution_count": 6,
   "metadata": {
    "collapsed": false
   },
   "outputs": [
    {
     "data": {
      "text/html": [
       "<div>\n",
       "<table border=\"1\" class=\"dataframe\">\n",
       "  <thead>\n",
       "    <tr style=\"text-align: right;\">\n",
       "      <th></th>\n",
       "      <th>id</th>\n",
       "      <th>member_id</th>\n",
       "      <th>loan_amnt</th>\n",
       "      <th>funded_amnt</th>\n",
       "      <th>funded_amnt_inv</th>\n",
       "      <th>term</th>\n",
       "      <th>int_rate</th>\n",
       "      <th>installment</th>\n",
       "      <th>grade</th>\n",
       "      <th>sub_grade</th>\n",
       "      <th>...</th>\n",
       "      <th>pct_tl_nvr_dlq</th>\n",
       "      <th>percent_bc_gt_75</th>\n",
       "      <th>pub_rec_bankruptcies</th>\n",
       "      <th>tax_liens</th>\n",
       "      <th>tot_hi_cred_lim</th>\n",
       "      <th>total_bal_ex_mort</th>\n",
       "      <th>total_bc_limit</th>\n",
       "      <th>total_il_high_credit_limit</th>\n",
       "      <th>file_name</th>\n",
       "      <th>time_stamp</th>\n",
       "    </tr>\n",
       "  </thead>\n",
       "  <tbody>\n",
       "    <tr>\n",
       "      <th>0</th>\n",
       "      <td>10119623</td>\n",
       "      <td>11971241.0</td>\n",
       "      <td>12000.0</td>\n",
       "      <td>12000.0</td>\n",
       "      <td>12000.0</td>\n",
       "      <td>36</td>\n",
       "      <td>11.99</td>\n",
       "      <td>398.52</td>\n",
       "      <td>B</td>\n",
       "      <td>B3</td>\n",
       "      <td>...</td>\n",
       "      <td>100.0</td>\n",
       "      <td>1.0</td>\n",
       "      <td>0.0</td>\n",
       "      <td>0.0</td>\n",
       "      <td>365874.0</td>\n",
       "      <td>44327.0</td>\n",
       "      <td>10700.0</td>\n",
       "      <td>57674.0</td>\n",
       "      <td>/LoanStats3b</td>\n",
       "      <td>2017-04-05 12:34:57</td>\n",
       "    </tr>\n",
       "    <tr>\n",
       "      <th>1</th>\n",
       "      <td>10224583</td>\n",
       "      <td>12086734.0</td>\n",
       "      <td>11100.0</td>\n",
       "      <td>11100.0</td>\n",
       "      <td>11100.0</td>\n",
       "      <td>36</td>\n",
       "      <td>14.98</td>\n",
       "      <td>384.68</td>\n",
       "      <td>C</td>\n",
       "      <td>C3</td>\n",
       "      <td>...</td>\n",
       "      <td>75.0</td>\n",
       "      <td>50.0</td>\n",
       "      <td>0.0</td>\n",
       "      <td>0.0</td>\n",
       "      <td>385000.0</td>\n",
       "      <td>6619.0</td>\n",
       "      <td>4000.0</td>\n",
       "      <td>0.0</td>\n",
       "      <td>/LoanStats3b</td>\n",
       "      <td>2017-04-05 12:34:57</td>\n",
       "    </tr>\n",
       "    <tr>\n",
       "      <th>2</th>\n",
       "      <td>10159584</td>\n",
       "      <td>12011200.0</td>\n",
       "      <td>9750.0</td>\n",
       "      <td>9750.0</td>\n",
       "      <td>9750.0</td>\n",
       "      <td>36</td>\n",
       "      <td>13.98</td>\n",
       "      <td>333.14</td>\n",
       "      <td>C</td>\n",
       "      <td>C1</td>\n",
       "      <td>...</td>\n",
       "      <td>100.0</td>\n",
       "      <td>66.7</td>\n",
       "      <td>0.0</td>\n",
       "      <td>0.0</td>\n",
       "      <td>21314.0</td>\n",
       "      <td>14123.0</td>\n",
       "      <td>7200.0</td>\n",
       "      <td>6214.0</td>\n",
       "      <td>/LoanStats3b</td>\n",
       "      <td>2017-04-05 12:34:57</td>\n",
       "    </tr>\n",
       "    <tr>\n",
       "      <th>3</th>\n",
       "      <td>10139658</td>\n",
       "      <td>11991209.0</td>\n",
       "      <td>12000.0</td>\n",
       "      <td>12000.0</td>\n",
       "      <td>12000.0</td>\n",
       "      <td>36</td>\n",
       "      <td>13.53</td>\n",
       "      <td>407.40</td>\n",
       "      <td>B</td>\n",
       "      <td>B5</td>\n",
       "      <td>...</td>\n",
       "      <td>81.2</td>\n",
       "      <td>33.3</td>\n",
       "      <td>0.0</td>\n",
       "      <td>0.0</td>\n",
       "      <td>18130.0</td>\n",
       "      <td>13605.0</td>\n",
       "      <td>7000.0</td>\n",
       "      <td>10030.0</td>\n",
       "      <td>/LoanStats3b</td>\n",
       "      <td>2017-04-05 12:34:57</td>\n",
       "    </tr>\n",
       "    <tr>\n",
       "      <th>4</th>\n",
       "      <td>10149566</td>\n",
       "      <td>12001108.0</td>\n",
       "      <td>8000.0</td>\n",
       "      <td>8000.0</td>\n",
       "      <td>8000.0</td>\n",
       "      <td>36</td>\n",
       "      <td>10.99</td>\n",
       "      <td>261.88</td>\n",
       "      <td>B</td>\n",
       "      <td>B2</td>\n",
       "      <td>...</td>\n",
       "      <td>100.0</td>\n",
       "      <td>75.0</td>\n",
       "      <td>1.0</td>\n",
       "      <td>0.0</td>\n",
       "      <td>33226.0</td>\n",
       "      <td>15949.0</td>\n",
       "      <td>8200.0</td>\n",
       "      <td>12426.0</td>\n",
       "      <td>/LoanStats3b</td>\n",
       "      <td>2017-04-05 12:34:57</td>\n",
       "    </tr>\n",
       "    <tr>\n",
       "      <th>5</th>\n",
       "      <td>10119590</td>\n",
       "      <td>11971211.0</td>\n",
       "      <td>11500.0</td>\n",
       "      <td>11500.0</td>\n",
       "      <td>11500.0</td>\n",
       "      <td>60</td>\n",
       "      <td>22.90</td>\n",
       "      <td>323.54</td>\n",
       "      <td>E</td>\n",
       "      <td>E4</td>\n",
       "      <td>...</td>\n",
       "      <td>100.0</td>\n",
       "      <td>50.0</td>\n",
       "      <td>0.0</td>\n",
       "      <td>0.0</td>\n",
       "      <td>30891.0</td>\n",
       "      <td>24724.0</td>\n",
       "      <td>9000.0</td>\n",
       "      <td>16791.0</td>\n",
       "      <td>/LoanStats3b</td>\n",
       "      <td>2017-04-05 12:34:57</td>\n",
       "    </tr>\n",
       "    <tr>\n",
       "      <th>6</th>\n",
       "      <td>10127816</td>\n",
       "      <td>11979581.0</td>\n",
       "      <td>24000.0</td>\n",
       "      <td>24000.0</td>\n",
       "      <td>24000.0</td>\n",
       "      <td>36</td>\n",
       "      <td>13.53</td>\n",
       "      <td>814.80</td>\n",
       "      <td>B</td>\n",
       "      <td>B5</td>\n",
       "      <td>...</td>\n",
       "      <td>100.0</td>\n",
       "      <td>75.0</td>\n",
       "      <td>0.0</td>\n",
       "      <td>0.0</td>\n",
       "      <td>229072.0</td>\n",
       "      <td>61397.0</td>\n",
       "      <td>21500.0</td>\n",
       "      <td>58847.0</td>\n",
       "      <td>/LoanStats3b</td>\n",
       "      <td>2017-04-05 12:34:57</td>\n",
       "    </tr>\n",
       "    <tr>\n",
       "      <th>7</th>\n",
       "      <td>10148818</td>\n",
       "      <td>12000415.0</td>\n",
       "      <td>15000.0</td>\n",
       "      <td>15000.0</td>\n",
       "      <td>15000.0</td>\n",
       "      <td>36</td>\n",
       "      <td>14.47</td>\n",
       "      <td>516.10</td>\n",
       "      <td>C</td>\n",
       "      <td>C2</td>\n",
       "      <td>...</td>\n",
       "      <td>100.0</td>\n",
       "      <td>7.7</td>\n",
       "      <td>0.0</td>\n",
       "      <td>0.0</td>\n",
       "      <td>33300.0</td>\n",
       "      <td>13038.0</td>\n",
       "      <td>20800.0</td>\n",
       "      <td>7500.0</td>\n",
       "      <td>/LoanStats3b</td>\n",
       "      <td>2017-04-05 12:34:57</td>\n",
       "    </tr>\n",
       "    <tr>\n",
       "      <th>8</th>\n",
       "      <td>10159611</td>\n",
       "      <td>12011228.0</td>\n",
       "      <td>10000.0</td>\n",
       "      <td>10000.0</td>\n",
       "      <td>10000.0</td>\n",
       "      <td>36</td>\n",
       "      <td>9.67</td>\n",
       "      <td>321.13</td>\n",
       "      <td>B</td>\n",
       "      <td>B1</td>\n",
       "      <td>...</td>\n",
       "      <td>77.3</td>\n",
       "      <td>66.7</td>\n",
       "      <td>0.0</td>\n",
       "      <td>0.0</td>\n",
       "      <td>58486.0</td>\n",
       "      <td>39143.0</td>\n",
       "      <td>9200.0</td>\n",
       "      <td>36186.0</td>\n",
       "      <td>/LoanStats3b</td>\n",
       "      <td>2017-04-05 12:34:57</td>\n",
       "    </tr>\n",
       "    <tr>\n",
       "      <th>9</th>\n",
       "      <td>10129506</td>\n",
       "      <td>11981122.0</td>\n",
       "      <td>20800.0</td>\n",
       "      <td>20800.0</td>\n",
       "      <td>20800.0</td>\n",
       "      <td>36</td>\n",
       "      <td>13.53</td>\n",
       "      <td>706.16</td>\n",
       "      <td>B</td>\n",
       "      <td>B5</td>\n",
       "      <td>...</td>\n",
       "      <td>90.2</td>\n",
       "      <td>50.0</td>\n",
       "      <td>0.0</td>\n",
       "      <td>0.0</td>\n",
       "      <td>43100.0</td>\n",
       "      <td>23473.0</td>\n",
       "      <td>15000.0</td>\n",
       "      <td>0.0</td>\n",
       "      <td>/LoanStats3b</td>\n",
       "      <td>2017-04-05 12:34:57</td>\n",
       "    </tr>\n",
       "  </tbody>\n",
       "</table>\n",
       "<p>10 rows × 113 columns</p>\n",
       "</div>"
      ],
      "text/plain": [
       "         id   member_id  loan_amnt  funded_amnt  funded_amnt_inv  term  \\\n",
       "0  10119623  11971241.0    12000.0      12000.0          12000.0    36   \n",
       "1  10224583  12086734.0    11100.0      11100.0          11100.0    36   \n",
       "2  10159584  12011200.0     9750.0       9750.0           9750.0    36   \n",
       "3  10139658  11991209.0    12000.0      12000.0          12000.0    36   \n",
       "4  10149566  12001108.0     8000.0       8000.0           8000.0    36   \n",
       "5  10119590  11971211.0    11500.0      11500.0          11500.0    60   \n",
       "6  10127816  11979581.0    24000.0      24000.0          24000.0    36   \n",
       "7  10148818  12000415.0    15000.0      15000.0          15000.0    36   \n",
       "8  10159611  12011228.0    10000.0      10000.0          10000.0    36   \n",
       "9  10129506  11981122.0    20800.0      20800.0          20800.0    36   \n",
       "\n",
       "   int_rate  installment grade sub_grade         ...          pct_tl_nvr_dlq  \\\n",
       "0     11.99       398.52     B        B3         ...                   100.0   \n",
       "1     14.98       384.68     C        C3         ...                    75.0   \n",
       "2     13.98       333.14     C        C1         ...                   100.0   \n",
       "3     13.53       407.40     B        B5         ...                    81.2   \n",
       "4     10.99       261.88     B        B2         ...                   100.0   \n",
       "5     22.90       323.54     E        E4         ...                   100.0   \n",
       "6     13.53       814.80     B        B5         ...                   100.0   \n",
       "7     14.47       516.10     C        C2         ...                   100.0   \n",
       "8      9.67       321.13     B        B1         ...                    77.3   \n",
       "9     13.53       706.16     B        B5         ...                    90.2   \n",
       "\n",
       "  percent_bc_gt_75 pub_rec_bankruptcies  tax_liens tot_hi_cred_lim  \\\n",
       "0              1.0                  0.0        0.0        365874.0   \n",
       "1             50.0                  0.0        0.0        385000.0   \n",
       "2             66.7                  0.0        0.0         21314.0   \n",
       "3             33.3                  0.0        0.0         18130.0   \n",
       "4             75.0                  1.0        0.0         33226.0   \n",
       "5             50.0                  0.0        0.0         30891.0   \n",
       "6             75.0                  0.0        0.0        229072.0   \n",
       "7              7.7                  0.0        0.0         33300.0   \n",
       "8             66.7                  0.0        0.0         58486.0   \n",
       "9             50.0                  0.0        0.0         43100.0   \n",
       "\n",
       "  total_bal_ex_mort total_bc_limit total_il_high_credit_limit     file_name  \\\n",
       "0           44327.0        10700.0                    57674.0  /LoanStats3b   \n",
       "1            6619.0         4000.0                        0.0  /LoanStats3b   \n",
       "2           14123.0         7200.0                     6214.0  /LoanStats3b   \n",
       "3           13605.0         7000.0                    10030.0  /LoanStats3b   \n",
       "4           15949.0         8200.0                    12426.0  /LoanStats3b   \n",
       "5           24724.0         9000.0                    16791.0  /LoanStats3b   \n",
       "6           61397.0        21500.0                    58847.0  /LoanStats3b   \n",
       "7           13038.0        20800.0                     7500.0  /LoanStats3b   \n",
       "8           39143.0         9200.0                    36186.0  /LoanStats3b   \n",
       "9           23473.0        15000.0                        0.0  /LoanStats3b   \n",
       "\n",
       "            time_stamp  \n",
       "0  2017-04-05 12:34:57  \n",
       "1  2017-04-05 12:34:57  \n",
       "2  2017-04-05 12:34:57  \n",
       "3  2017-04-05 12:34:57  \n",
       "4  2017-04-05 12:34:57  \n",
       "5  2017-04-05 12:34:57  \n",
       "6  2017-04-05 12:34:57  \n",
       "7  2017-04-05 12:34:57  \n",
       "8  2017-04-05 12:34:57  \n",
       "9  2017-04-05 12:34:57  \n",
       "\n",
       "[10 rows x 113 columns]"
      ]
     },
     "execution_count": 6,
     "metadata": {},
     "output_type": "execute_result"
    }
   ],
   "source": [
    "df.head(10)"
   ]
  },
  {
   "cell_type": "code",
   "execution_count": 7,
   "metadata": {
    "collapsed": false
   },
   "outputs": [
    {
     "data": {
      "text/html": [
       "<div>\n",
       "<table border=\"1\" class=\"dataframe\">\n",
       "  <thead>\n",
       "    <tr style=\"text-align: right;\">\n",
       "      <th></th>\n",
       "      <th>grade</th>\n",
       "      <th>count</th>\n",
       "    </tr>\n",
       "  </thead>\n",
       "  <tbody>\n",
       "    <tr>\n",
       "      <th>0</th>\n",
       "      <td>A</td>\n",
       "      <td>218954</td>\n",
       "    </tr>\n",
       "    <tr>\n",
       "      <th>1</th>\n",
       "      <td>B</td>\n",
       "      <td>388709</td>\n",
       "    </tr>\n",
       "    <tr>\n",
       "      <th>2</th>\n",
       "      <td>C</td>\n",
       "      <td>377428</td>\n",
       "    </tr>\n",
       "    <tr>\n",
       "      <th>3</th>\n",
       "      <td>D</td>\n",
       "      <td>198040</td>\n",
       "    </tr>\n",
       "    <tr>\n",
       "      <th>4</th>\n",
       "      <td>E</td>\n",
       "      <td>95978</td>\n",
       "    </tr>\n",
       "    <tr>\n",
       "      <th>5</th>\n",
       "      <td>F</td>\n",
       "      <td>32136</td>\n",
       "    </tr>\n",
       "    <tr>\n",
       "      <th>6</th>\n",
       "      <td>G</td>\n",
       "      <td>7846</td>\n",
       "    </tr>\n",
       "  </tbody>\n",
       "</table>\n",
       "</div>"
      ],
      "text/plain": [
       "  grade   count\n",
       "0     A  218954\n",
       "1     B  388709\n",
       "2     C  377428\n",
       "3     D  198040\n",
       "4     E   95978\n",
       "5     F   32136\n",
       "6     G    7846"
      ]
     },
     "execution_count": 7,
     "metadata": {},
     "output_type": "execute_result"
    }
   ],
   "source": [
    "df2 = pd.DataFrame()\n",
    "df2 = df.groupby( [ \"grade\"] ).size().to_frame(name = 'count').reset_index()\n",
    "df2"
   ]
  },
  {
   "cell_type": "code",
   "execution_count": 8,
   "metadata": {
    "collapsed": false
   },
   "outputs": [
    {
     "data": {
      "image/png": "[encoded data removed]",
      "text/plain": [
       "<matplotlib.figure.Figure at 0x28f53152358>"
      ]
     },
     "metadata": {},
     "output_type": "display_data"
    }
   ],
   "source": [
    "import matplotlib.pyplot as plt\n",
    " \n",
    "# Data to plot\n",
    "labels = df2['grade']\n",
    "sizes = df2['count']\n",
    "colors = ['gold', 'yellowgreen', 'lightcoral', 'lightskyblue','green','red','pink']\n",
    "#explode = (0.1, 0, 0, 0, 0, 0)  # explode 1st slice\n",
    " \n",
    "# Plot\n",
    "plt.pie(sizes, labels=labels, colors=colors,\n",
    "        autopct='%1.1f%%', shadow=True, startangle=140)\n",
    "plt.title('Loan issued by grade type') \n",
    "plt.axis('equal')\n",
    "plt.show()"
   ]
  },
  {
   "cell_type": "code",
   "execution_count": 9,
   "metadata": {
    "collapsed": false
   },
   "outputs": [
    {
     "data": {
      "text/html": [
       "<div>\n",
       "<table border=\"1\" class=\"dataframe\">\n",
       "  <thead>\n",
       "    <tr style=\"text-align: right;\">\n",
       "      <th></th>\n",
       "      <th>grade</th>\n",
       "      <th>dti</th>\n",
       "    </tr>\n",
       "  </thead>\n",
       "  <tbody>\n",
       "    <tr>\n",
       "      <th>0</th>\n",
       "      <td>A</td>\n",
       "      <td>15.857722</td>\n",
       "    </tr>\n",
       "    <tr>\n",
       "      <th>1</th>\n",
       "      <td>B</td>\n",
       "      <td>18.049705</td>\n",
       "    </tr>\n",
       "    <tr>\n",
       "      <th>2</th>\n",
       "      <td>C</td>\n",
       "      <td>19.593815</td>\n",
       "    </tr>\n",
       "    <tr>\n",
       "      <th>3</th>\n",
       "      <td>D</td>\n",
       "      <td>20.725988</td>\n",
       "    </tr>\n",
       "    <tr>\n",
       "      <th>4</th>\n",
       "      <td>E</td>\n",
       "      <td>21.277356</td>\n",
       "    </tr>\n",
       "    <tr>\n",
       "      <th>5</th>\n",
       "      <td>F</td>\n",
       "      <td>21.872842</td>\n",
       "    </tr>\n",
       "    <tr>\n",
       "      <th>6</th>\n",
       "      <td>G</td>\n",
       "      <td>22.207044</td>\n",
       "    </tr>\n",
       "  </tbody>\n",
       "</table>\n",
       "</div>"
      ],
      "text/plain": [
       "  grade        dti\n",
       "0     A  15.857722\n",
       "1     B  18.049705\n",
       "2     C  19.593815\n",
       "3     D  20.725988\n",
       "4     E  21.277356\n",
       "5     F  21.872842\n",
       "6     G  22.207044"
      ]
     },
     "execution_count": 9,
     "metadata": {},
     "output_type": "execute_result"
    }
   ],
   "source": [
    "df2= pd.DataFrame()\n",
    "df2 = df.groupby('grade',as_index=False)['dti'].mean()\n",
    "df2"
   ]
  },
  {
   "cell_type": "code",
   "execution_count": 10,
   "metadata": {
    "collapsed": false
   },
   "outputs": [
    {
     "data": {
      "image/png": "[encoded data removed]",
      "text/plain": [
       "<matplotlib.figure.Figure at 0x28f331c9208>"
      ]
     },
     "metadata": {},
     "output_type": "display_data"
    }
   ],
   "source": [
    "import matplotlib.pyplot as plt; plt.rcdefaults()\n",
    "import numpy as np\n",
    "import matplotlib.pyplot as plt\n",
    "#rcParams['figure.figsize']=10,5\n",
    " \n",
    "objects = df2['grade']\n",
    "y_pos = np.arange(len(objects))\n",
    "performance = df2['dti']\n",
    " \n",
    "plt.bar(y_pos, performance, align='center', alpha=1.0)\n",
    "plt.xticks(y_pos, objects)\n",
    "plt.ylabel('Debt to income')\n",
    "plt.title('Dti distribution vs grades')\n",
    " \n",
    "plt.show()"
   ]
  },
  {
   "cell_type": "code",
   "execution_count": 88,
   "metadata": {
    "collapsed": false
   },
   "outputs": [
    {
     "data": {
      "text/html": [
       "<div>\n",
       "<table border=\"1\" class=\"dataframe\">\n",
       "  <thead>\n",
       "    <tr style=\"text-align: right;\">\n",
       "      <th></th>\n",
       "      <th>grade</th>\n",
       "      <th>loan_status_bol</th>\n",
       "      <th>Defaulted Loans</th>\n",
       "    </tr>\n",
       "  </thead>\n",
       "  <tbody>\n",
       "    <tr>\n",
       "      <th>0</th>\n",
       "      <td>A</td>\n",
       "      <td>0.929996</td>\n",
       "      <td>0.070004</td>\n",
       "    </tr>\n",
       "    <tr>\n",
       "      <th>1</th>\n",
       "      <td>B</td>\n",
       "      <td>0.863151</td>\n",
       "      <td>0.136849</td>\n",
       "    </tr>\n",
       "    <tr>\n",
       "      <th>2</th>\n",
       "      <td>C</td>\n",
       "      <td>0.775223</td>\n",
       "      <td>0.224777</td>\n",
       "    </tr>\n",
       "    <tr>\n",
       "      <th>3</th>\n",
       "      <td>D</td>\n",
       "      <td>0.703110</td>\n",
       "      <td>0.296890</td>\n",
       "    </tr>\n",
       "    <tr>\n",
       "      <th>4</th>\n",
       "      <td>E</td>\n",
       "      <td>0.625734</td>\n",
       "      <td>0.374266</td>\n",
       "    </tr>\n",
       "    <tr>\n",
       "      <th>5</th>\n",
       "      <td>F</td>\n",
       "      <td>0.573773</td>\n",
       "      <td>0.426227</td>\n",
       "    </tr>\n",
       "    <tr>\n",
       "      <th>6</th>\n",
       "      <td>G</td>\n",
       "      <td>0.533968</td>\n",
       "      <td>0.466032</td>\n",
       "    </tr>\n",
       "  </tbody>\n",
       "</table>\n",
       "</div>"
      ],
      "text/plain": [
       "  grade  loan_status_bol  Defaulted Loans\n",
       "0     A         0.929996         0.070004\n",
       "1     B         0.863151         0.136849\n",
       "2     C         0.775223         0.224777\n",
       "3     D         0.703110         0.296890\n",
       "4     E         0.625734         0.374266\n",
       "5     F         0.573773         0.426227\n",
       "6     G         0.533968         0.466032"
      ]
     },
     "execution_count": 88,
     "metadata": {},
     "output_type": "execute_result"
    }
   ],
   "source": [
    "df2= pd.DataFrame()\n",
    "df2 = df3.groupby('grade',as_index=False)['loan_status_bol'].mean()\n",
    "\n",
    "\n",
    "df2['Defaulted Loans'] = (1-df2['loan_status_bol'])\n",
    "df2"
   ]
  },
  {
   "cell_type": "markdown",
   "metadata": {},
   "source": [
    "LOAN PAID VS DEFAULTED LOANS WRT GRADE"
   ]
  },
  {
   "cell_type": "code",
   "execution_count": 89,
   "metadata": {
    "collapsed": false
   },
   "outputs": [
    {
     "name": "stdout",
     "output_type": "stream",
     "text": [
      "Populating the interactive namespace from numpy and matplotlib\n"
     ]
    },
    {
     "data": {
      "text/plain": [
       "<matplotlib.axes._subplots.AxesSubplot at 0x28f1d7982b0>"
      ]
     },
     "execution_count": 89,
     "metadata": {},
     "output_type": "execute_result"
    },
    {
     "data": {
      "image/png": "[encoded data removed]",
      "text/plain": [
       "<matplotlib.figure.Figure at 0x28f1c0ab358>"
      ]
     },
     "metadata": {},
     "output_type": "display_data"
    }
   ],
   "source": [
    "%pylab inline\n",
    "import pandas as pd\n",
    "import matplotlib.pyplot as plt\n",
    "\n",
    "\n",
    "\n",
    "df2[['loan_status_bol','Defaulted Loans']].plot(kind='bar', stacked=True)"
   ]
  },
  {
   "cell_type": "markdown",
   "metadata": {},
   "source": [
    "CHOSE SPECIFIC COLUMNS FOR ANALYSIS"
   ]
  },
  {
   "cell_type": "code",
   "execution_count": 57,
   "metadata": {
    "collapsed": false
   },
   "outputs": [
    {
     "data": {
      "text/html": [
       "<div>\n",
       "<table border=\"1\" class=\"dataframe\">\n",
       "  <thead>\n",
       "    <tr style=\"text-align: right;\">\n",
       "      <th></th>\n",
       "      <th>funded_amnt</th>\n",
       "      <th>emp_length</th>\n",
       "      <th>annual_inc</th>\n",
       "      <th>loan_status</th>\n",
       "      <th>home_ownership</th>\n",
       "      <th>addr_state</th>\n",
       "      <th>grade</th>\n",
       "      <th>dti</th>\n",
       "      <th>int_rate</th>\n",
       "    </tr>\n",
       "  </thead>\n",
       "  <tbody>\n",
       "    <tr>\n",
       "      <th>0</th>\n",
       "      <td>12000.0</td>\n",
       "      <td>10+ years</td>\n",
       "      <td>130000.0</td>\n",
       "      <td>Fully Paid</td>\n",
       "      <td>MORTGAGE</td>\n",
       "      <td>CO</td>\n",
       "      <td>B</td>\n",
       "      <td>13.03</td>\n",
       "      <td>11.99</td>\n",
       "    </tr>\n",
       "    <tr>\n",
       "      <th>1</th>\n",
       "      <td>11100.0</td>\n",
       "      <td>10+ years</td>\n",
       "      <td>90000.0</td>\n",
       "      <td>Fully Paid</td>\n",
       "      <td>MORTGAGE</td>\n",
       "      <td>NY</td>\n",
       "      <td>C</td>\n",
       "      <td>3.73</td>\n",
       "      <td>14.98</td>\n",
       "    </tr>\n",
       "    <tr>\n",
       "      <th>2</th>\n",
       "      <td>9750.0</td>\n",
       "      <td>1 year</td>\n",
       "      <td>26000.0</td>\n",
       "      <td>Fully Paid</td>\n",
       "      <td>RENT</td>\n",
       "      <td>CA</td>\n",
       "      <td>C</td>\n",
       "      <td>25.12</td>\n",
       "      <td>13.98</td>\n",
       "    </tr>\n",
       "    <tr>\n",
       "      <th>3</th>\n",
       "      <td>12000.0</td>\n",
       "      <td>10+ years</td>\n",
       "      <td>40000.0</td>\n",
       "      <td>Fully Paid</td>\n",
       "      <td>RENT</td>\n",
       "      <td>NM</td>\n",
       "      <td>B</td>\n",
       "      <td>16.94</td>\n",
       "      <td>13.53</td>\n",
       "    </tr>\n",
       "    <tr>\n",
       "      <th>4</th>\n",
       "      <td>8000.0</td>\n",
       "      <td>2 years</td>\n",
       "      <td>33000.0</td>\n",
       "      <td>Charged Off</td>\n",
       "      <td>MORTGAGE</td>\n",
       "      <td>CO</td>\n",
       "      <td>B</td>\n",
       "      <td>15.75</td>\n",
       "      <td>10.99</td>\n",
       "    </tr>\n",
       "  </tbody>\n",
       "</table>\n",
       "</div>"
      ],
      "text/plain": [
       "   funded_amnt emp_length  annual_inc  loan_status home_ownership addr_state  \\\n",
       "0      12000.0  10+ years    130000.0   Fully Paid       MORTGAGE         CO   \n",
       "1      11100.0  10+ years     90000.0   Fully Paid       MORTGAGE         NY   \n",
       "2       9750.0     1 year     26000.0   Fully Paid           RENT         CA   \n",
       "3      12000.0  10+ years     40000.0   Fully Paid           RENT         NM   \n",
       "4       8000.0    2 years     33000.0  Charged Off       MORTGAGE         CO   \n",
       "\n",
       "  grade    dti  int_rate  \n",
       "0     B  13.03     11.99  \n",
       "1     C   3.73     14.98  \n",
       "2     C  25.12     13.98  \n",
       "3     B  16.94     13.53  \n",
       "4     B  15.75     10.99  "
      ]
     },
     "execution_count": 57,
     "metadata": {},
     "output_type": "execute_result"
    }
   ],
   "source": [
    "df3 = pd.DataFrame()\n",
    "df3 = df[['funded_amnt','emp_length','annual_inc','loan_status','home_ownership','addr_state','grade','dti','int_rate']]\n",
    "df3.head(5)"
   ]
  },
  {
   "cell_type": "markdown",
   "metadata": {},
   "source": [
    "CLEAN SOME OF THE COLUMNS AGAIN FOR ANALYSIS"
   ]
  },
  {
   "cell_type": "code",
   "execution_count": 59,
   "metadata": {
    "collapsed": false
   },
   "outputs": [
    {
     "name": "stderr",
     "output_type": "stream",
     "text": [
      "C:\\Users\\antri\\Anaconda3\\lib\\site-packages\\ipykernel\\__main__.py:1: SettingWithCopyWarning: \n",
      "A value is trying to be set on a copy of a slice from a DataFrame.\n",
      "Try using .loc[row_indexer,col_indexer] = value instead\n",
      "\n",
      "See the caveats in the documentation: http://pandas.pydata.org/pandas-docs/stable/indexing.html#indexing-view-versus-copy\n",
      "  if __name__ == '__main__':\n",
      "C:\\Users\\antri\\Anaconda3\\lib\\site-packages\\ipykernel\\__main__.py:3: SettingWithCopyWarning: \n",
      "A value is trying to be set on a copy of a slice from a DataFrame.\n",
      "Try using .loc[row_indexer,col_indexer] = value instead\n",
      "\n",
      "See the caveats in the documentation: http://pandas.pydata.org/pandas-docs/stable/indexing.html#indexing-view-versus-copy\n",
      "  app.launch_new_instance()\n"
     ]
    }
   ],
   "source": [
    "df3['loan_status_bol'] = df3['loan_status'].map({'Current': 2, 'Fully Paid': 1, 'Charged Off':0, 'Late(31-120 days)':0, 'In Grace Period': 0, 'Late(16-30 days)': 0, 'Default': 0})\n",
    "df3 = df3[df3.loan_status_bol != 2] \n",
    "df3[\"loan_status_bol\"] = df3[\"loan_status_bol\"].apply(lambda loan_status_bol: 0 if loan_status_bol == 0 else 1)"
   ]
  },
  {
   "cell_type": "code",
   "execution_count": 111,
   "metadata": {
    "collapsed": false
   },
   "outputs": [
    {
     "data": {
      "text/html": [
       "<div>\n",
       "<table border=\"1\" class=\"dataframe\">\n",
       "  <thead>\n",
       "    <tr style=\"text-align: right;\">\n",
       "      <th></th>\n",
       "      <th>funded_amnt</th>\n",
       "      <th>emp_length</th>\n",
       "      <th>annual_inc</th>\n",
       "      <th>loan_status</th>\n",
       "      <th>home_ownership</th>\n",
       "      <th>addr_state</th>\n",
       "      <th>grade</th>\n",
       "      <th>dti</th>\n",
       "      <th>int_rate</th>\n",
       "      <th>loan_status_bol</th>\n",
       "      <th>emp_length_clean</th>\n",
       "    </tr>\n",
       "  </thead>\n",
       "  <tbody>\n",
       "    <tr>\n",
       "      <th>0</th>\n",
       "      <td>12000.0</td>\n",
       "      <td>10+ years</td>\n",
       "      <td>130000.0</td>\n",
       "      <td>Fully Paid</td>\n",
       "      <td>MORTGAGE</td>\n",
       "      <td>CO</td>\n",
       "      <td>B</td>\n",
       "      <td>13.03</td>\n",
       "      <td>11.99</td>\n",
       "      <td>1</td>\n",
       "      <td>10</td>\n",
       "    </tr>\n",
       "    <tr>\n",
       "      <th>1</th>\n",
       "      <td>11100.0</td>\n",
       "      <td>10+ years</td>\n",
       "      <td>90000.0</td>\n",
       "      <td>Fully Paid</td>\n",
       "      <td>MORTGAGE</td>\n",
       "      <td>NY</td>\n",
       "      <td>C</td>\n",
       "      <td>3.73</td>\n",
       "      <td>14.98</td>\n",
       "      <td>1</td>\n",
       "      <td>10</td>\n",
       "    </tr>\n",
       "    <tr>\n",
       "      <th>2</th>\n",
       "      <td>9750.0</td>\n",
       "      <td>1 year</td>\n",
       "      <td>26000.0</td>\n",
       "      <td>Fully Paid</td>\n",
       "      <td>RENT</td>\n",
       "      <td>CA</td>\n",
       "      <td>C</td>\n",
       "      <td>25.12</td>\n",
       "      <td>13.98</td>\n",
       "      <td>1</td>\n",
       "      <td>1</td>\n",
       "    </tr>\n",
       "    <tr>\n",
       "      <th>3</th>\n",
       "      <td>12000.0</td>\n",
       "      <td>10+ years</td>\n",
       "      <td>40000.0</td>\n",
       "      <td>Fully Paid</td>\n",
       "      <td>RENT</td>\n",
       "      <td>NM</td>\n",
       "      <td>B</td>\n",
       "      <td>16.94</td>\n",
       "      <td>13.53</td>\n",
       "      <td>1</td>\n",
       "      <td>10</td>\n",
       "    </tr>\n",
       "    <tr>\n",
       "      <th>4</th>\n",
       "      <td>8000.0</td>\n",
       "      <td>2 years</td>\n",
       "      <td>33000.0</td>\n",
       "      <td>Charged Off</td>\n",
       "      <td>MORTGAGE</td>\n",
       "      <td>CO</td>\n",
       "      <td>B</td>\n",
       "      <td>15.75</td>\n",
       "      <td>10.99</td>\n",
       "      <td>0</td>\n",
       "      <td>2</td>\n",
       "    </tr>\n",
       "  </tbody>\n",
       "</table>\n",
       "</div>"
      ],
      "text/plain": [
       "   funded_amnt emp_length  annual_inc  loan_status home_ownership addr_state  \\\n",
       "0      12000.0  10+ years    130000.0   Fully Paid       MORTGAGE         CO   \n",
       "1      11100.0  10+ years     90000.0   Fully Paid       MORTGAGE         NY   \n",
       "2       9750.0     1 year     26000.0   Fully Paid           RENT         CA   \n",
       "3      12000.0  10+ years     40000.0   Fully Paid           RENT         NM   \n",
       "4       8000.0    2 years     33000.0  Charged Off       MORTGAGE         CO   \n",
       "\n",
       "  grade    dti  int_rate  loan_status_bol  emp_length_clean  \n",
       "0     B  13.03     11.99                1                10  \n",
       "1     C   3.73     14.98                1                10  \n",
       "2     C  25.12     13.98                1                 1  \n",
       "3     B  16.94     13.53                1                10  \n",
       "4     B  15.75     10.99                0                 2  "
      ]
     },
     "execution_count": 111,
     "metadata": {},
     "output_type": "execute_result"
    }
   ],
   "source": [
    "df3['emp_length_clean'] = df3.emp_length.str.replace('+','')\n",
    "df3['emp_length_clean'] = df3.emp_length_clean.str.replace('<','')\n",
    "df3['emp_length_clean'] = df3.emp_length_clean.str.replace('years','')\n",
    "df3['emp_length_clean'] = df3.emp_length_clean.str.replace('year','')\n",
    "df3['emp_length_clean'] = df3.emp_length_clean.str.replace('n/a','0')\n",
    "\n",
    "df3['emp_length_clean']=pd.to_numeric(df3['emp_length_clean'], errors='ignore')\n",
    "\n",
    "df3.head(5)"
   ]
  },
  {
   "cell_type": "code",
   "execution_count": 116,
   "metadata": {
    "collapsed": false
   },
   "outputs": [
    {
     "data": {
      "text/html": [
       "<div>\n",
       "<table border=\"1\" class=\"dataframe\">\n",
       "  <thead>\n",
       "    <tr style=\"text-align: right;\">\n",
       "      <th></th>\n",
       "      <th>emp_length_clean</th>\n",
       "      <th>loan_status_bol</th>\n",
       "      <th>int_rate</th>\n",
       "      <th>dti</th>\n",
       "      <th>annual_inc</th>\n",
       "    </tr>\n",
       "  </thead>\n",
       "  <tbody>\n",
       "    <tr>\n",
       "      <th>0</th>\n",
       "      <td>0</td>\n",
       "      <td>0.723133</td>\n",
       "      <td>13.826238</td>\n",
       "      <td>21.556538</td>\n",
       "      <td>49531.513374</td>\n",
       "    </tr>\n",
       "    <tr>\n",
       "      <th>1</th>\n",
       "      <td>1</td>\n",
       "      <td>0.785696</td>\n",
       "      <td>13.610174</td>\n",
       "      <td>17.102927</td>\n",
       "      <td>69865.103878</td>\n",
       "    </tr>\n",
       "    <tr>\n",
       "      <th>2</th>\n",
       "      <td>2</td>\n",
       "      <td>0.794308</td>\n",
       "      <td>13.649883</td>\n",
       "      <td>17.226457</td>\n",
       "      <td>72244.474305</td>\n",
       "    </tr>\n",
       "    <tr>\n",
       "      <th>3</th>\n",
       "      <td>3</td>\n",
       "      <td>0.793618</td>\n",
       "      <td>13.667244</td>\n",
       "      <td>17.279100</td>\n",
       "      <td>72946.199255</td>\n",
       "    </tr>\n",
       "    <tr>\n",
       "      <th>4</th>\n",
       "      <td>4</td>\n",
       "      <td>0.796063</td>\n",
       "      <td>13.660880</td>\n",
       "      <td>17.340202</td>\n",
       "      <td>72873.873051</td>\n",
       "    </tr>\n",
       "    <tr>\n",
       "      <th>5</th>\n",
       "      <td>5</td>\n",
       "      <td>0.797463</td>\n",
       "      <td>13.696720</td>\n",
       "      <td>17.379388</td>\n",
       "      <td>73859.271832</td>\n",
       "    </tr>\n",
       "    <tr>\n",
       "      <th>6</th>\n",
       "      <td>6</td>\n",
       "      <td>0.797799</td>\n",
       "      <td>13.787722</td>\n",
       "      <td>17.458695</td>\n",
       "      <td>73871.060448</td>\n",
       "    </tr>\n",
       "    <tr>\n",
       "      <th>7</th>\n",
       "      <td>7</td>\n",
       "      <td>0.794898</td>\n",
       "      <td>13.841167</td>\n",
       "      <td>17.568714</td>\n",
       "      <td>74400.545908</td>\n",
       "    </tr>\n",
       "    <tr>\n",
       "      <th>8</th>\n",
       "      <td>8</td>\n",
       "      <td>0.788313</td>\n",
       "      <td>13.758718</td>\n",
       "      <td>17.833179</td>\n",
       "      <td>75899.355100</td>\n",
       "    </tr>\n",
       "    <tr>\n",
       "      <th>9</th>\n",
       "      <td>9</td>\n",
       "      <td>0.787316</td>\n",
       "      <td>13.772024</td>\n",
       "      <td>17.959030</td>\n",
       "      <td>75930.543760</td>\n",
       "    </tr>\n",
       "    <tr>\n",
       "      <th>10</th>\n",
       "      <td>10</td>\n",
       "      <td>0.802128</td>\n",
       "      <td>13.743907</td>\n",
       "      <td>17.976028</td>\n",
       "      <td>81674.126670</td>\n",
       "    </tr>\n",
       "  </tbody>\n",
       "</table>\n",
       "</div>"
      ],
      "text/plain": [
       "    emp_length_clean  loan_status_bol   int_rate        dti    annual_inc\n",
       "0                  0         0.723133  13.826238  21.556538  49531.513374\n",
       "1                  1         0.785696  13.610174  17.102927  69865.103878\n",
       "2                  2         0.794308  13.649883  17.226457  72244.474305\n",
       "3                  3         0.793618  13.667244  17.279100  72946.199255\n",
       "4                  4         0.796063  13.660880  17.340202  72873.873051\n",
       "5                  5         0.797463  13.696720  17.379388  73859.271832\n",
       "6                  6         0.797799  13.787722  17.458695  73871.060448\n",
       "7                  7         0.794898  13.841167  17.568714  74400.545908\n",
       "8                  8         0.788313  13.758718  17.833179  75899.355100\n",
       "9                  9         0.787316  13.772024  17.959030  75930.543760\n",
       "10                10         0.802128  13.743907  17.976028  81674.126670"
      ]
     },
     "execution_count": 116,
     "metadata": {},
     "output_type": "execute_result"
    }
   ],
   "source": [
    "df2= pd.DataFrame()\n",
    "df2 = df3.groupby('emp_length_clean',as_index=False)['loan_status_bol','int_rate','dti','annual_inc'].mean()\n",
    "#df2.drop(0, inplace = True)\n",
    "\n",
    "df2"
   ]
  },
  {
   "cell_type": "code",
   "execution_count": 117,
   "metadata": {
    "collapsed": false
   },
   "outputs": [
    {
     "data": {
      "image/png": "[encoded data removed]",
      "text/plain": [
       "<matplotlib.figure.Figure at 0x28f0d7324a8>"
      ]
     },
     "metadata": {},
     "output_type": "display_data"
    }
   ],
   "source": [
    "import matplotlib.pyplot as plt\n",
    "from matplotlib import style\n",
    "x = df2['emp_length_clean']\n",
    "y = df2['loan_status_bol']\n",
    "x1 = x.astype(float)\n",
    "y1 = y.astype(float)\n",
    "plt.plot(x1,y1)\n",
    "\n",
    "\n",
    "\n",
    "plt.xlabel('Employement length')\n",
    "plt.ylabel('Paid Loan Percentage')\n",
    "plt.title('Loan Paid wrt to Employement length')\n",
    "plt.xticks(np.arange(min(x), max(x)+1, 1.0))\n",
    "\n",
    "\n",
    "plt.show()"
   ]
  },
  {
   "cell_type": "code",
   "execution_count": 118,
   "metadata": {
    "collapsed": false
   },
   "outputs": [
    {
     "data": {
      "image/png": "[encoded data removed]",
      "text/plain": [
       "<matplotlib.figure.Figure at 0x28f0d62a7f0>"
      ]
     },
     "metadata": {},
     "output_type": "display_data"
    }
   ],
   "source": [
    "from matplotlib import pyplot as plt\n",
    "from matplotlib import style\n",
    "#rcParams['figure.figsize']=10,5\n",
    "\n",
    "style.use('ggplot')\n",
    "\n",
    "x = df2['emp_length_clean']\n",
    "y = df2['int_rate']\n",
    "\n",
    "x2 = df2['emp_length_clean']\n",
    "y2 = df2['dti']\n",
    "\n",
    "\n",
    "\n",
    "plt.plot(x,y,'g',label='Interest Rate', linewidth=5)\n",
    "plt.plot(x2,y2,'c',label='Debt To income',linewidth=5)\n",
    "\n",
    "\n",
    "plt.title('Employement length analysis on interest rate and dti')\n",
    "plt.ylabel('Mean score')\n",
    "plt.xlabel('Employement years')\n",
    "\n",
    "plt.legend()\n",
    "plt.xticks(np.arange(min(x), max(x)+1, 1.0))\n",
    "plt.grid(True,color='k')\n",
    "\n",
    "plt.show()"
   ]
  },
  {
   "cell_type": "code",
   "execution_count": 76,
   "metadata": {
    "collapsed": false
   },
   "outputs": [
    {
     "data": {
      "text/html": [
       "<div>\n",
       "<table border=\"1\" class=\"dataframe\">\n",
       "  <thead>\n",
       "    <tr style=\"text-align: right;\">\n",
       "      <th></th>\n",
       "      <th>home_ownership</th>\n",
       "      <th>loan_status_bol</th>\n",
       "      <th>Defaulted Loans</th>\n",
       "    </tr>\n",
       "  </thead>\n",
       "  <tbody>\n",
       "    <tr>\n",
       "      <th>1</th>\n",
       "      <td>MORTGAGE</td>\n",
       "      <td>0.817734</td>\n",
       "      <td>0.182266</td>\n",
       "    </tr>\n",
       "    <tr>\n",
       "      <th>3</th>\n",
       "      <td>OTHER</td>\n",
       "      <td>0.809859</td>\n",
       "      <td>0.190141</td>\n",
       "    </tr>\n",
       "    <tr>\n",
       "      <th>4</th>\n",
       "      <td>OWN</td>\n",
       "      <td>0.782657</td>\n",
       "      <td>0.217343</td>\n",
       "    </tr>\n",
       "    <tr>\n",
       "      <th>5</th>\n",
       "      <td>RENT</td>\n",
       "      <td>0.762721</td>\n",
       "      <td>0.237279</td>\n",
       "    </tr>\n",
       "  </tbody>\n",
       "</table>\n",
       "</div>"
      ],
      "text/plain": [
       "  home_ownership  loan_status_bol  Defaulted Loans\n",
       "1       MORTGAGE         0.817734         0.182266\n",
       "3          OTHER         0.809859         0.190141\n",
       "4            OWN         0.782657         0.217343\n",
       "5           RENT         0.762721         0.237279"
      ]
     },
     "execution_count": 76,
     "metadata": {},
     "output_type": "execute_result"
    }
   ],
   "source": [
    "df2= pd.DataFrame()\n",
    "df2 = df3.groupby('home_ownership',as_index=False)['loan_status_bol'].mean()\n",
    "df2.drop(0, inplace = True)\n",
    "df2.drop(2, inplace = True)\n",
    "df2\n",
    "\n",
    "df2['Defaulted Loans'] = (1-df2['loan_status_bol'])\n",
    "df2"
   ]
  },
  {
   "cell_type": "markdown",
   "metadata": {},
   "source": [
    "PAID LOANS VS DEFAULTED WRT TO HOME OWNERSHIP"
   ]
  },
  {
   "cell_type": "code",
   "execution_count": 80,
   "metadata": {
    "collapsed": false
   },
   "outputs": [
    {
     "name": "stdout",
     "output_type": "stream",
     "text": [
      "Populating the interactive namespace from numpy and matplotlib\n"
     ]
    },
    {
     "data": {
      "text/plain": [
       "<matplotlib.axes._subplots.AxesSubplot at 0x28f1c122cf8>"
      ]
     },
     "execution_count": 80,
     "metadata": {},
     "output_type": "execute_result"
    },
    {
     "data": {
      "image/png": "[encoded data removed]",
      "text/plain": [
       "<matplotlib.figure.Figure at 0x28f6000b438>"
      ]
     },
     "metadata": {},
     "output_type": "display_data"
    }
   ],
   "source": [
    "%pylab inline\n",
    "import pandas as pd\n",
    "import matplotlib.pyplot as plt\n",
    "\n",
    "\n",
    "\n",
    "df2[['loan_status_bol','Defaulted Loans']].plot(kind='bar', stacked=True)"
   ]
  },
  {
   "cell_type": "code",
   "execution_count": 85,
   "metadata": {
    "collapsed": false
   },
   "outputs": [
    {
     "data": {
      "text/html": [
       "<div>\n",
       "<table border=\"1\" class=\"dataframe\">\n",
       "  <thead>\n",
       "    <tr style=\"text-align: right;\">\n",
       "      <th></th>\n",
       "      <th>home_ownership</th>\n",
       "      <th>dti</th>\n",
       "      <th>int_rate</th>\n",
       "      <th>annual_inc</th>\n",
       "      <th>funded_amnt</th>\n",
       "    </tr>\n",
       "  </thead>\n",
       "  <tbody>\n",
       "    <tr>\n",
       "      <th>1</th>\n",
       "      <td>MORTGAGE</td>\n",
       "      <td>19.019988</td>\n",
       "      <td>12.865507</td>\n",
       "      <td>86627.829152</td>\n",
       "      <td>16366.847073</td>\n",
       "    </tr>\n",
       "    <tr>\n",
       "      <th>3</th>\n",
       "      <td>OTHER</td>\n",
       "      <td>14.344167</td>\n",
       "      <td>13.150417</td>\n",
       "      <td>68374.180556</td>\n",
       "      <td>11368.750000</td>\n",
       "    </tr>\n",
       "    <tr>\n",
       "      <th>4</th>\n",
       "      <td>OWN</td>\n",
       "      <td>19.271468</td>\n",
       "      <td>13.182767</td>\n",
       "      <td>71657.767393</td>\n",
       "      <td>14186.082864</td>\n",
       "    </tr>\n",
       "    <tr>\n",
       "      <th>5</th>\n",
       "      <td>RENT</td>\n",
       "      <td>18.607262</td>\n",
       "      <td>13.564653</td>\n",
       "      <td>65189.467097</td>\n",
       "      <td>12890.978558</td>\n",
       "    </tr>\n",
       "  </tbody>\n",
       "</table>\n",
       "</div>"
      ],
      "text/plain": [
       "  home_ownership        dti   int_rate    annual_inc   funded_amnt\n",
       "1       MORTGAGE  19.019988  12.865507  86627.829152  16366.847073\n",
       "3          OTHER  14.344167  13.150417  68374.180556  11368.750000\n",
       "4            OWN  19.271468  13.182767  71657.767393  14186.082864\n",
       "5           RENT  18.607262  13.564653  65189.467097  12890.978558"
      ]
     },
     "execution_count": 85,
     "metadata": {},
     "output_type": "execute_result"
    }
   ],
   "source": [
    "df2= pd.DataFrame()\n",
    "df2 = df.groupby('home_ownership',as_index=False)['dti','int_rate','annual_inc','funded_amnt'].mean()\n",
    "df2.drop(0, inplace = True)\n",
    "df2.drop(2, inplace = True)\n",
    "df2"
   ]
  },
  {
   "cell_type": "code",
   "execution_count": 87,
   "metadata": {
    "collapsed": false
   },
   "outputs": [
    {
     "data": {
      "image/png": "[encoded data removed]",
      "text/plain": [
       "<matplotlib.figure.Figure at 0x28f1d789a90>"
      ]
     },
     "metadata": {},
     "output_type": "display_data"
    }
   ],
   "source": [
    "import numpy as np\n",
    "import matplotlib.pyplot as plt\n",
    " \n",
    "# data to plot\n",
    "n_groups = 4\n",
    "performance = df2['annual_inc']\n",
    "performance2 = df2['funded_amnt']\n",
    "index = df2['home_ownership']\n",
    "\n",
    " \n",
    "# create plot\n",
    "fig, ax = plt.subplots()\n",
    "index = np.arange(n_groups)\n",
    "bar_width = 0.35\n",
    "opacity = 0.8\n",
    " \n",
    "rects1 = plt.bar(index, performance, bar_width,\n",
    "                 alpha=opacity,\n",
    "                 color='b',\n",
    "                 label='Annual income')\n",
    " \n",
    "rects2 = plt.bar(index + bar_width, performance2, bar_width,\n",
    "                 alpha=opacity,\n",
    "                 color='g',\n",
    "                 label='Funded Amount')\n",
    " \n",
    "plt.xlabel('Home ownership')\n",
    "plt.ylabel('Mean Score')\n",
    "plt.title('Funded amount and annual income wrt loan status')\n",
    "plt.xticks(index + bar_width, ('MORTGAGE','OTHER','OWN','RENT',))\n",
    "plt.legend()\n",
    " \n",
    "plt.tight_layout()\n",
    "plt.show()"
   ]
  },
  {
   "cell_type": "code",
   "execution_count": 12,
   "metadata": {
    "collapsed": false
   },
   "outputs": [
    {
     "data": {
      "text/plain": [
       "Current               732247\n",
       "Fully Paid            441660\n",
       "Charged Off           111739\n",
       "Late (31-120 days)     18848\n",
       "In Grace Period        10297\n",
       "Late (16-30 days)       4274\n",
       "Default                   26\n",
       "Name: loan_status, dtype: int64"
      ]
     },
     "execution_count": 12,
     "metadata": {},
     "output_type": "execute_result"
    }
   ],
   "source": [
    "df3 = pd.DataFrame()\n",
    "df3 = df['loan_status'].value_counts()\n",
    "df3"
   ]
  },
  {
   "cell_type": "code",
   "execution_count": 13,
   "metadata": {
    "collapsed": false
   },
   "outputs": [
    {
     "data": {
      "text/html": [
       "<div>\n",
       "<table border=\"1\" class=\"dataframe\">\n",
       "  <thead>\n",
       "    <tr style=\"text-align: right;\">\n",
       "      <th></th>\n",
       "      <th>loan_status</th>\n",
       "      <th>count</th>\n",
       "    </tr>\n",
       "  </thead>\n",
       "  <tbody>\n",
       "    <tr>\n",
       "      <th>0</th>\n",
       "      <td>Charged Off</td>\n",
       "      <td>111739</td>\n",
       "    </tr>\n",
       "    <tr>\n",
       "      <th>1</th>\n",
       "      <td>Current</td>\n",
       "      <td>732247</td>\n",
       "    </tr>\n",
       "    <tr>\n",
       "      <th>2</th>\n",
       "      <td>Default</td>\n",
       "      <td>26</td>\n",
       "    </tr>\n",
       "    <tr>\n",
       "      <th>3</th>\n",
       "      <td>Fully Paid</td>\n",
       "      <td>441660</td>\n",
       "    </tr>\n",
       "    <tr>\n",
       "      <th>4</th>\n",
       "      <td>In Grace Period</td>\n",
       "      <td>10297</td>\n",
       "    </tr>\n",
       "    <tr>\n",
       "      <th>5</th>\n",
       "      <td>Late (16-30 days)</td>\n",
       "      <td>4274</td>\n",
       "    </tr>\n",
       "    <tr>\n",
       "      <th>6</th>\n",
       "      <td>Late (31-120 days)</td>\n",
       "      <td>18848</td>\n",
       "    </tr>\n",
       "  </tbody>\n",
       "</table>\n",
       "</div>"
      ],
      "text/plain": [
       "          loan_status   count\n",
       "0         Charged Off  111739\n",
       "1             Current  732247\n",
       "2             Default      26\n",
       "3          Fully Paid  441660\n",
       "4     In Grace Period   10297\n",
       "5   Late (16-30 days)    4274\n",
       "6  Late (31-120 days)   18848"
      ]
     },
     "execution_count": 13,
     "metadata": {},
     "output_type": "execute_result"
    }
   ],
   "source": [
    "df3 = pd.DataFrame()\n",
    "df3 = df.groupby( [ \"loan_status\"] ).size().to_frame(name = 'count').reset_index()\n",
    "df3"
   ]
  },
  {
   "cell_type": "code",
   "execution_count": 14,
   "metadata": {
    "collapsed": false
   },
   "outputs": [
    {
     "data": {
      "text/html": [
       "<div>\n",
       "<table border=\"1\" class=\"dataframe\">\n",
       "  <thead>\n",
       "    <tr style=\"text-align: right;\">\n",
       "      <th></th>\n",
       "      <th>loan_status</th>\n",
       "      <th>dti</th>\n",
       "      <th>int_rate</th>\n",
       "    </tr>\n",
       "  </thead>\n",
       "  <tbody>\n",
       "    <tr>\n",
       "      <th>0</th>\n",
       "      <td>Charged Off</td>\n",
       "      <td>19.858233</td>\n",
       "      <td>15.843601</td>\n",
       "    </tr>\n",
       "    <tr>\n",
       "      <th>1</th>\n",
       "      <td>Current</td>\n",
       "      <td>19.776826</td>\n",
       "      <td>12.746836</td>\n",
       "    </tr>\n",
       "    <tr>\n",
       "      <th>2</th>\n",
       "      <td>Default</td>\n",
       "      <td>20.235385</td>\n",
       "      <td>15.168462</td>\n",
       "    </tr>\n",
       "    <tr>\n",
       "      <th>3</th>\n",
       "      <td>Fully Paid</td>\n",
       "      <td>16.977839</td>\n",
       "      <td>13.049785</td>\n",
       "    </tr>\n",
       "    <tr>\n",
       "      <th>4</th>\n",
       "      <td>In Grace Period</td>\n",
       "      <td>20.904299</td>\n",
       "      <td>15.160647</td>\n",
       "    </tr>\n",
       "    <tr>\n",
       "      <th>5</th>\n",
       "      <td>Late (16-30 days)</td>\n",
       "      <td>22.421219</td>\n",
       "      <td>15.316642</td>\n",
       "    </tr>\n",
       "    <tr>\n",
       "      <th>6</th>\n",
       "      <td>Late (31-120 days)</td>\n",
       "      <td>21.053939</td>\n",
       "      <td>15.517112</td>\n",
       "    </tr>\n",
       "  </tbody>\n",
       "</table>\n",
       "</div>"
      ],
      "text/plain": [
       "          loan_status        dti   int_rate\n",
       "0         Charged Off  19.858233  15.843601\n",
       "1             Current  19.776826  12.746836\n",
       "2             Default  20.235385  15.168462\n",
       "3          Fully Paid  16.977839  13.049785\n",
       "4     In Grace Period  20.904299  15.160647\n",
       "5   Late (16-30 days)  22.421219  15.316642\n",
       "6  Late (31-120 days)  21.053939  15.517112"
      ]
     },
     "execution_count": 14,
     "metadata": {},
     "output_type": "execute_result"
    }
   ],
   "source": [
    "df2= pd.DataFrame()\n",
    "df2 = df.groupby('loan_status',as_index=False)['dti','int_rate'].mean()\n",
    "df2"
   ]
  },
  {
   "cell_type": "code",
   "execution_count": 15,
   "metadata": {
    "collapsed": false
   },
   "outputs": [
    {
     "data": {
      "image/png": "[encoded data removed]",
      "text/plain": [
       "<matplotlib.figure.Figure at 0x28f03a25128>"
      ]
     },
     "metadata": {},
     "output_type": "display_data"
    }
   ],
   "source": [
    "import matplotlib.pyplot as plt; plt.rcdefaults()\n",
    "import numpy as np\n",
    "import matplotlib.pyplot as plt\n",
    "#rcParams['figure.figsize']=10,5\n",
    " \n",
    "objects = df3['loan_status']\n",
    "y_pos = np.arange(len(objects))\n",
    "performance = df3['count']\n",
    "\n",
    " \n",
    "plt.bar(y_pos, performance, color='g', align='center', alpha=0.7)\n",
    "\n",
    "plt.xticks(y_pos, objects)\n",
    "plt.ylabel('Count of Loans')\n",
    "plt.title('Loan count wrt Loan status')\n",
    " \n",
    "plt.show()"
   ]
  },
  {
   "cell_type": "code",
   "execution_count": 16,
   "metadata": {
    "collapsed": false
   },
   "outputs": [
    {
     "data": {
      "image/png": "[encoded data removed]",
      "text/plain": [
       "<matplotlib.figure.Figure at 0x28f6876c5c0>"
      ]
     },
     "metadata": {},
     "output_type": "display_data"
    }
   ],
   "source": [
    "import numpy as np\n",
    "import matplotlib.pyplot as plt\n",
    " \n",
    "# data to plot\n",
    "n_groups = 7\n",
    "performance = df2['dti']\n",
    "performance2 = df2['int_rate']\n",
    "index = df2['loan_status']\n",
    "\n",
    " \n",
    "# create plot\n",
    "fig, ax = plt.subplots()\n",
    "index = np.arange(n_groups)\n",
    "bar_width = 0.35\n",
    "opacity = 0.8\n",
    " \n",
    "rects1 = plt.bar(index, performance, bar_width,\n",
    "                 alpha=opacity,\n",
    "                 color='b',\n",
    "                 label='dti')\n",
    " \n",
    "rects2 = plt.bar(index + bar_width, performance2, bar_width,\n",
    "                 alpha=opacity,\n",
    "                 color='g',\n",
    "                 label='interest_rate')\n",
    " \n",
    "plt.xlabel('Loan Staus')\n",
    "plt.ylabel('Mean Score')\n",
    "plt.title('DTI and Interest rate wrt loan status')\n",
    "plt.xticks(index + bar_width, ('Charged Off','Current','Default','Fully Paid','Grace Period','Late <30', 'Late >30'))\n",
    "plt.legend()\n",
    " \n",
    "plt.tight_layout()\n",
    "plt.show()"
   ]
  },
  {
   "cell_type": "code",
   "execution_count": null,
   "metadata": {
    "collapsed": true
   },
   "outputs": [],
   "source": []
  },
  {
   "cell_type": "code",
   "execution_count": 19,
   "metadata": {
    "collapsed": false
   },
   "outputs": [
    {
     "data": {
      "image/png": "[encoded data removed]",
      "text/plain": [
       "<matplotlib.figure.Figure at 0x28f0dbf8dd8>"
      ]
     },
     "metadata": {},
     "output_type": "display_data"
    },
    {
     "data": {
      "text/plain": [
       "<matplotlib.text.Text at 0x28f0dc11748>"
      ]
     },
     "execution_count": 19,
     "metadata": {},
     "output_type": "execute_result"
    },
    {
     "data": {
      "image/png": "[encoded data removed]",
      "text/plain": [
       "<matplotlib.figure.Figure at 0x28f0de8fd30>"
      ]
     },
     "metadata": {},
     "output_type": "display_data"
    }
   ],
   "source": [
    "from matplotlib import pyplot as plt\n",
    "\n",
    "plt.figure(figsize=(10,5))\n",
    "plt.scatter(df3['annual_inc'], df3['funded_amnt'])\n",
    "plt.title(\"Plotting Annual Income against Funded Amount\")\n",
    "plt.ylabel('Funded Amount')\n",
    "plt.xlabel('Annual Income')\n",
    "plt.show()\n",
    "\n",
    "df3.annual_inc.hist(figsize=(10,5))\n",
    "plt.ylabel('Number of Loans')\n",
    "plt.xlabel('Annual Income')"
   ]
  },
  {
   "cell_type": "code",
   "execution_count": 20,
   "metadata": {
    "collapsed": true
   },
   "outputs": [],
   "source": [
    "df3 = df3[df3['annual_inc']<150000]"
   ]
  },
  {
   "cell_type": "code",
   "execution_count": 21,
   "metadata": {
    "collapsed": false
   },
   "outputs": [
    {
     "data": {
      "text/plain": [
       "<matplotlib.text.Text at 0x28f0dcb3898>"
      ]
     },
     "execution_count": 21,
     "metadata": {},
     "output_type": "execute_result"
    },
    {
     "data": {
      "image/png": "[encoded data removed]",
      "text/plain": [
       "<matplotlib.figure.Figure at 0x28f33433710>"
      ]
     },
     "metadata": {},
     "output_type": "display_data"
    }
   ],
   "source": [
    "from matplotlib import pyplot as plt\n",
    "plt.figure(figsize=(10,5))\n",
    "%matplotlib inline\n",
    "\n",
    "df3.annual_inc.hist(figsize=(10,5))\n",
    "plt.ylabel('Number of Loans')\n",
    "plt.xlabel('Annual Income')"
   ]
  },
  {
   "cell_type": "code",
   "execution_count": 50,
   "metadata": {
    "collapsed": false
   },
   "outputs": [
    {
     "data": {
      "text/html": [
       "<div>\n",
       "<table border=\"1\" class=\"dataframe\">\n",
       "  <thead>\n",
       "    <tr style=\"text-align: right;\">\n",
       "      <th></th>\n",
       "      <th>annual_inc</th>\n",
       "      <th>dti</th>\n",
       "      <th>int_rate</th>\n",
       "    </tr>\n",
       "  </thead>\n",
       "  <tbody>\n",
       "    <tr>\n",
       "      <th>0</th>\n",
       "      <td>0.0</td>\n",
       "      <td>9999.0</td>\n",
       "      <td>14.236441</td>\n",
       "    </tr>\n",
       "    <tr>\n",
       "      <th>1</th>\n",
       "      <td>1.0</td>\n",
       "      <td>9999.0</td>\n",
       "      <td>10.528333</td>\n",
       "    </tr>\n",
       "  </tbody>\n",
       "</table>\n",
       "</div>"
      ],
      "text/plain": [
       "   annual_inc     dti   int_rate\n",
       "0         0.0  9999.0  14.236441\n",
       "1         1.0  9999.0  10.528333"
      ]
     },
     "execution_count": 50,
     "metadata": {},
     "output_type": "execute_result"
    }
   ],
   "source": [
    "df2= pd.DataFrame()\n",
    "df2 = df3.groupby('annual_inc',as_index=False)['dti','int_rate'].mean()\n",
    "df2.head(2)"
   ]
  },
  {
   "cell_type": "code",
   "execution_count": 51,
   "metadata": {
    "collapsed": false
   },
   "outputs": [
    {
     "data": {
      "image/png": "[encoded data removed]",
      "text/plain": [
       "<matplotlib.figure.Figure at 0x28f1adf0b00>"
      ]
     },
     "metadata": {},
     "output_type": "display_data"
    }
   ],
   "source": [
    "from matplotlib import pyplot as plt\n",
    "\n",
    "plt.figure(figsize=(10,5))\n",
    "plt.scatter(df2['annual_inc'], df2['dti'])\n",
    "plt.title(\"Plotting Annual Income against debt to income ratio\")\n",
    "plt.ylabel('dti')\n",
    "plt.xlabel('Annual Income')\n",
    "plt.show()\n",
    "\n",
    "\n"
   ]
  },
  {
   "cell_type": "code",
   "execution_count": 45,
   "metadata": {
    "collapsed": false
   },
   "outputs": [
    {
     "data": {
      "text/plain": [
       "<matplotlib.axes._subplots.AxesSubplot at 0x28f1c9c1240>"
      ]
     },
     "execution_count": 45,
     "metadata": {},
     "output_type": "execute_result"
    },
    {
     "data": {
      "image/png": "[encoded data removed]",
      "text/plain": [
       "<matplotlib.figure.Figure at 0x28f5b81e5c0>"
      ]
     },
     "metadata": {},
     "output_type": "display_data"
    }
   ],
   "source": [
    "import matplotlib.pyplot as plt\n",
    "import matplotlib\n",
    "matplotlib.style.use('ggplot')\n",
    "\n",
    "df2['annual_inc'] = pd.qcut(df2['annual_inc'], 4, labels=['0-40000', '40000-80000', '80000-120000', '120000-150000'])\n",
    "df2.boxplot(column='int_rate', by='annual_inc')\n",
    "\n"
   ]
  },
  {
   "cell_type": "code",
   "execution_count": 48,
   "metadata": {
    "collapsed": false
   },
   "outputs": [
    {
     "data": {
      "text/plain": [
       "<matplotlib.axes._subplots.AxesSubplot at 0x28f615110f0>"
      ]
     },
     "execution_count": 48,
     "metadata": {},
     "output_type": "execute_result"
    },
    {
     "data": {
      "image/png": "[encoded data removed]",
      "text/plain": [
       "<matplotlib.figure.Figure at 0x28f1c74ad30>"
      ]
     },
     "metadata": {},
     "output_type": "display_data"
    }
   ],
   "source": [
    "df2['annual_inc'] = pd.qcut(df2['annual_inc'], 4, labels=['0-40000', '40000-80000', '80000-120000', '120000-150000'])\n",
    "df2.boxplot(column='dti', by='annual_inc')"
   ]
  },
  {
   "cell_type": "code",
   "execution_count": null,
   "metadata": {
    "collapsed": true
   },
   "outputs": [],
   "source": []
  }
 ],
 "metadata": {
  "kernelspec": {
   "display_name": "Python 3",
   "language": "python",
   "name": "python3"
  },
  "language_info": {
   "codemirror_mode": {
    "name": "ipython",
    "version": 3
   },
   "file_extension": ".py",
   "mimetype": "text/x-python",
   "name": "python",
   "nbconvert_exporter": "python",
   "pygments_lexer": "ipython3",
   "version": "3.6.0"
  }
 },
 "nbformat": 4,
 "nbformat_minor": 2
}
