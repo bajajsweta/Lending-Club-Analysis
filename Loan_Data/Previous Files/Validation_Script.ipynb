{
 "cells": [
  {
   "cell_type": "code",
   "execution_count": 4,
   "metadata": {
    "collapsed": false
   },
   "outputs": [],
   "source": [
    "import pandas as pd\n",
    "import numpy as np\n",
    "import os"
   ]
  },
  {
   "cell_type": "markdown",
   "metadata": {},
   "source": [
    "# Validation function"
   ]
  },
  {
   "cell_type": "code",
   "execution_count": 5,
   "metadata": {
    "collapsed": false
   },
   "outputs": [],
   "source": [
    "## find the number of nan in each column\n",
    "#Q2.isnull().sum()\n",
    "## fill na\n",
    "def validate_field():\n",
    "    data_frame = pd.read_csv('Combined_data_file.csv')\n",
    "    print(data_frame.head(2))\n",
    "    \n",
    "    Q3 = data_frame[np.isfinite(data_frame['member_id'])]\n",
    "    Q3['emp_title'].fillna(\"unknown\",inplace=True)\n",
    "    Q3.mths_since_last_delinq= Q3.mths_since_last_delinq.interpolate()\n",
    "    Q3['mths_since_recent_bc'] = Q3['mths_since_recent_bc'].interpolate()\n",
    "    Q3['mths_since_recent_bc_dlq'] =Q3['mths_since_recent_bc_dlq'].interpolate(limit=50)\n",
    "    Q3['mths_since_recent_inq'] =Q3['mths_since_recent_inq'].interpolate()\n",
    "    Q3['mths_since_recent_revol_delinq'] =Q3['mths_since_recent_revol_delinq'].interpolate()\n",
    "    Q3['num_tl_120dpd_2m'] =Q3['num_tl_120dpd_2m'].interpolate()\n",
    "    Q3['percent_bc_gt_75'] =Q3['percent_bc_gt_75'].interpolate()\n",
    "    Q3['last_pymnt_d'] = Q3['last_pymnt_d'].fillna('Unknown')\n",
    "    Q3['next_pymnt_d']= Q3['next_pymnt_d'].fillna('Unknown')\n",
    "    Q3['last_credit_pull_d'] = Q3['last_credit_pull_d'].fillna('Unknown')\n",
    "    Q3['mths_since_last_major_derog'].fillna(0,inplace=True)\n",
    "    Q3['annual_inc_joint'] =Q3['annual_inc_joint'].interpolate()\n",
    "    Q3['dti_joint'] =Q3['dti_joint'].interpolate()\n",
    "    Q3['verification_status_joint'].fillna('unknown',inplace=True)\n",
    "    Q3['mths_since_rcnt_il'] =Q3['mths_since_rcnt_il'].interpolate()\n",
    "    Q3['il_util'] =Q3['il_util'].interpolate()\n",
    "    Q3['bc_open_to_buy'] =Q3['bc_open_to_buy'].interpolate()\n",
    "    Q3['bc_util'] =Q3['bc_util'].interpolate()\n",
    "    Q3['mo_sin_old_il_acct'].fillna(0,inplace=True)\n",
    "    Q3['emp_length_clean'] = Q3.emp_length.str.replace('+','')\n",
    "    Q3['emp_length_clean'] = Q3.emp_length_clean.str.replace('< 1','0')\n",
    "    Q3['emp_length_clean'] = Q3.emp_length_clean.str.replace('years','')\n",
    "    Q3['emp_length_clean'] = Q3.emp_length_clean.str.replace('year','')\n",
    "    Q3['emp_length_clean'] = Q3.emp_length_clean.str.replace('n/a','-1')\n",
    "    Q3['emp_length_clean'].fillna('-1',inplace=True)\n",
    "    Q3['emp_length_clean']=pd.to_numeric(Q3['emp_length_clean'], errors='ignore')\n",
    "    \n",
    "    Q3['title'].fillna('unknown',inplace=True)\n",
    "    Q3['mths_since_last_delinq'].fillna(0,inplace=True)\n",
    "    Q3['desc'].fillna('unknown',inplace=True)\n",
    "    Q3['mths_since_last_record'].fillna(0,inplace=True) \n",
    "    Q3['mths_since_recent_bc_dlq'].fillna(0,inplace=True)\n",
    "    Q3['mths_since_recent_revol_delinq'].fillna(0,inplace=True)\n",
    "\n",
    "    #Remove % symbol from the interest rate & revolving utilization\n",
    "    Q3['revol_util'] = Q3['revol_util'].str.split('%',1).str[0]\n",
    "    Q3['int_rate'] = Q3['int_rate'].str.split('%',1).str[0]\n",
    "\n",
    "    ## drop months from the column \n",
    "    Q3['term']=Q3['term'].str.split(' ',2).str[1]\n",
    "\n",
    "    ## fill if any nan left with zero\n",
    "    Q3.fillna(0,inplace=True)\n",
    "    \n",
    "    print(\"Saving the validated file in a csv..\")\n",
    "    Q3.to_csv('LoanStats_Validated.csv',index=None)\n",
    "    print(\"Succeffully saved..\")\n"
   ]
  },
  {
   "cell_type": "code",
   "execution_count": null,
   "metadata": {
    "collapsed": true
   },
   "outputs": [],
   "source": [
    "print(\"The end..\")"
   ]
  },
  {
   "cell_type": "code",
   "execution_count": null,
   "metadata": {
    "collapsed": false
   },
   "outputs": [],
   "source": []
  },
  {
   "cell_type": "code",
   "execution_count": null,
   "metadata": {
    "collapsed": true
   },
   "outputs": [],
   "source": []
  }
 ],
 "metadata": {
  "anaconda-cloud": {},
  "kernelspec": {
   "display_name": "Python [conda root]",
   "language": "python",
   "name": "conda-root-py"
  },
  "language_info": {
   "codemirror_mode": {
    "name": "ipython",
    "version": 3
   },
   "file_extension": ".py",
   "mimetype": "text/x-python",
   "name": "python",
   "nbconvert_exporter": "python",
   "pygments_lexer": "ipython3",
   "version": "3.5.2"
  }
 },
 "nbformat": 4,
 "nbformat_minor": 2
}
