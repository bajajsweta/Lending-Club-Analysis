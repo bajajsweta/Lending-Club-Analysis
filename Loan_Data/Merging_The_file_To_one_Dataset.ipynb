{
 "cells": [
  {
   "cell_type": "markdown",
   "metadata": {},
   "source": [
    "#  Downloading loan files from Lending Club website and merging them into one single dataset "
   ]
  },
  {
   "cell_type": "code",
   "execution_count": 1,
   "metadata": {
    "collapsed": true
   },
   "outputs": [],
   "source": [
    "import pandas as pd\n",
    "import os\n",
    "import glob\n",
    "import zipfile as z\n",
    "import numpy as np\n",
    "from datetime import datetime\n"
   ]
  },
  {
   "cell_type": "code",
   "execution_count": null,
   "metadata": {
    "collapsed": true
   },
   "outputs": [],
   "source": [
    "print(\"Scraping data from lending club website.\")"
   ]
  },
  {
   "cell_type": "code",
   "execution_count": null,
   "metadata": {
    "collapsed": true
   },
   "outputs": [],
   "source": [
    "def download_data():\n",
    "    s = requests.session()\n",
    "    letters = 'abcd'\n",
    "    for each in letters:\n",
    "        url = 'https://resources.lendingclub.com/LoanStats3'+each+'.csv.zip'\n",
    "        file1 = s.get(url)\n",
    "        m1 = zipfile.ZipFile(io.BytesIO(file1.content))\n",
    "        m1.extractall()\n",
    "        print(\"File\"+'LoanStats3'+each+'is downloaded..!')\n",
    "    Quarter = ['Q1','Q2','Q3','Q4']\n",
    "    for q in Quarter:\n",
    "        url = 'https://resources.lendingclub.com/LoanStats_2016'+q+'.csv.zip'\n",
    "        file = s.get(url)\n",
    "        m = zipfile.ZipFile(io.BytesIO(file.content))\n",
    "        m.extractall()\n",
    "        #download= urllib.request.urlretrieve(url,'LoanStats_2016'+q+'.csv.zip')\n",
    "        print(\"File\"+'LoanStats_2016'+q+'is downloaded..!')\n",
    "print(\"Downloading of csv files is completed..\")"
   ]
  },
  {
   "cell_type": "code",
   "execution_count": null,
   "metadata": {
    "collapsed": true
   },
   "outputs": [],
   "source": [
    "download_data()"
   ]
  },
  {
   "cell_type": "markdown",
   "metadata": {},
   "source": [
    "# Merging script beings.."
   ]
  },
  {
   "cell_type": "code",
   "execution_count": null,
   "metadata": {
    "collapsed": true
   },
   "outputs": [],
   "source": [
    "print(\"Merging individual files into one dataset..\")"
   ]
  },
  {
   "cell_type": "code",
   "execution_count": 2,
   "metadata": {
    "collapsed": false
   },
   "outputs": [],
   "source": [
    "os.chdir('/Users/vikasshah/Desktop/ADS_Assignment_2')"
   ]
  },
  {
   "cell_type": "code",
   "execution_count": 52,
   "metadata": {
    "collapsed": false
   },
   "outputs": [
    {
     "name": "stdout",
     "output_type": "stream",
     "text": [
      "Fecthing all the csv files in a list..\n",
      "['/Users/vikasshah/Desktop/ADS_Assignment_2/LoanStats3b.csv', '/Users/vikasshah/Desktop/ADS_Assignment_2/LoanStats3c.csv', '/Users/vikasshah/Desktop/ADS_Assignment_2/LoanStats3d.csv', '/Users/vikasshah/Desktop/ADS_Assignment_2/LoanStats_2016Q1.csv', '/Users/vikasshah/Desktop/ADS_Assignment_2/LoanStats_2016Q2.csv', '/Users/vikasshah/Desktop/ADS_Assignment_2/LoanStats_2016Q3.csv', '/Users/vikasshah/Desktop/ADS_Assignment_2/LoanStats_2016Q4.csv']\n",
      "Skipping first two rows as we will be adding the header at the end of merging in order to avoid having multiple headers..\n"
     ]
    },
    {
     "name": "stderr",
     "output_type": "stream",
     "text": [
      "/Users/vikasshah/anaconda/lib/python3.5/site-packages/IPython/core/interactiveshell.py:2717: DtypeWarning: Columns (0) have mixed types. Specify dtype option on import or set low_memory=False.\n",
      "  interactivity=interactivity, compiler=compiler, result=result)\n"
     ]
    },
    {
     "name": "stdout",
     "output_type": "stream",
     "text": [
      "/Users/vikasshah/Desktop/ADS_Assignment_2/LoanStats3b.csv\n",
      "Dropping last two rows as we do not need it, they are the total amount funded in policy code 1 and policy code 2 \n",
      "This is take a few minutes to complete..\n",
      "Adding a new column to save the file name..\n",
      "Adding a new column to store the time at which the file was added..\n",
      "Skipping first two rows as we will be adding the header at the end of merging in order to avoid having multiple headers..\n"
     ]
    },
    {
     "name": "stderr",
     "output_type": "stream",
     "text": [
      "/Users/vikasshah/anaconda/lib/python3.5/site-packages/IPython/core/interactiveshell.py:2717: DtypeWarning: Columns (0,19) have mixed types. Specify dtype option on import or set low_memory=False.\n",
      "  interactivity=interactivity, compiler=compiler, result=result)\n"
     ]
    },
    {
     "name": "stdout",
     "output_type": "stream",
     "text": [
      "/Users/vikasshah/Desktop/ADS_Assignment_2/LoanStats3c.csv\n",
      "Dropping last two rows as we do not need it, they are the total amount funded in policy code 1 and policy code 2 \n",
      "This is take a few minutes to complete..\n",
      "Adding a new column to save the file name..\n",
      "Adding a new column to store the time at which the file was added..\n",
      "Skipping first two rows as we will be adding the header at the end of merging in order to avoid having multiple headers..\n"
     ]
    },
    {
     "name": "stderr",
     "output_type": "stream",
     "text": [
      "/Users/vikasshah/anaconda/lib/python3.5/site-packages/IPython/core/interactiveshell.py:2717: DtypeWarning: Columns (0,19,55) have mixed types. Specify dtype option on import or set low_memory=False.\n",
      "  interactivity=interactivity, compiler=compiler, result=result)\n"
     ]
    },
    {
     "name": "stdout",
     "output_type": "stream",
     "text": [
      "/Users/vikasshah/Desktop/ADS_Assignment_2/LoanStats3d.csv\n",
      "Dropping last two rows as we do not need it, they are the total amount funded in policy code 1 and policy code 2 \n",
      "This is take a few minutes to complete..\n",
      "Adding a new column to save the file name..\n",
      "Adding a new column to store the time at which the file was added..\n",
      "Skipping first two rows as we will be adding the header at the end of merging in order to avoid having multiple headers..\n",
      "/Users/vikasshah/Desktop/ADS_Assignment_2/LoanStats_2016Q1.csv\n",
      "Dropping last two rows as we do not need it, they are the total amount funded in policy code 1 and policy code 2 \n",
      "This is take a few minutes to complete..\n",
      "Adding a new column to save the file name..\n",
      "Adding a new column to store the time at which the file was added..\n",
      "Skipping first two rows as we will be adding the header at the end of merging in order to avoid having multiple headers..\n",
      "/Users/vikasshah/Desktop/ADS_Assignment_2/LoanStats_2016Q2.csv\n",
      "Dropping last two rows as we do not need it, they are the total amount funded in policy code 1 and policy code 2 \n",
      "This is take a few minutes to complete..\n",
      "Adding a new column to save the file name..\n",
      "Adding a new column to store the time at which the file was added..\n",
      "Skipping first two rows as we will be adding the header at the end of merging in order to avoid having multiple headers..\n",
      "/Users/vikasshah/Desktop/ADS_Assignment_2/LoanStats_2016Q3.csv\n",
      "Dropping last two rows as we do not need it, they are the total amount funded in policy code 1 and policy code 2 \n",
      "This is take a few minutes to complete..\n",
      "Adding a new column to save the file name..\n",
      "Adding a new column to store the time at which the file was added..\n",
      "Skipping first two rows as we will be adding the header at the end of merging in order to avoid having multiple headers..\n",
      "/Users/vikasshah/Desktop/ADS_Assignment_2/LoanStats_2016Q4.csv\n",
      "Dropping last two rows as we do not need it, they are the total amount funded in policy code 1 and policy code 2 \n",
      "This is take a few minutes to complete..\n",
      "Adding a new column to save the file name..\n",
      "Adding a new column to store the time at which the file was added..\n",
      "Merge completed successfully..\n"
     ]
    }
   ],
   "source": [
    "print(\"Fecthing all the csv files in a list..\")\n",
    "allfiles = glob.glob(os.path.join(os.getcwd(),\"*.csv\"))\n",
    "\n",
    "## not reading 3a\n",
    "listofFiles= []\n",
    "for file in allfiles:\n",
    "    #print(allfiles[i])\n",
    "    if 'LoanStats3a'  not in file:\n",
    "        listofFiles.append(file)\n",
    "        \n",
    "print(listofFiles)    \n",
    "\n",
    "np_array_list = []\n",
    "for file_ in listofFiles:\n",
    "    df = pd.DataFrame()\n",
    "    print(\"Skipping first two rows as we will be adding the header at the end of merging in order to avoid having multiple headers..\")\n",
    "    df = pd.read_csv(file_,index_col=None,skiprows=range(0, 2))\n",
    "    print(file_)\n",
    "    print(\"Dropping last two rows as we do not need it, they are the total amount funded in policy code 1 and policy code 2 \")\n",
    "    df= df.drop(df.index[(len(df)-1)])\n",
    "    df= df.drop(df.index[(len(df)-1)])\n",
    "    print(\"This is take a few minutes to complete..\")\n",
    "    #print(df.head(2))\n",
    "    print(\"Adding a new column to save the file name..\")\n",
    "    df['file_name'] = file_[-16:-4]\n",
    "    print(\"Adding a new column to store the time at which the file was added..\")\n",
    "    df['time_stamp'] = datetime.now().strftime(\"%Y-%m-%d %H:%M:%S\")\n",
    "    np_array_list.append(df.as_matrix())\n",
    "    \n",
    "\n",
    "comb_np_array = np.vstack(np_array_list)\n",
    "big_frame = pd.DataFrame(comb_np_array)\n",
    "print(\"Merge completed successfully..\")\n"
   ]
  },
  {
   "cell_type": "code",
   "execution_count": 53,
   "metadata": {
    "collapsed": false
   },
   "outputs": [
    {
     "name": "stdout",
     "output_type": "stream",
     "text": [
      "Adding headers to the merged dataframe..\n"
     ]
    }
   ],
   "source": [
    "print(\"Adding headers to the merged dataframe..\")\n",
    "big_frame.columns = [\"id\", \"member_id\", \"loan_amnt\", \"funded_amnt\",'funded_amnt_inv','term','int_rate','installment','grade','sub_grade','emp_title','emp_length','home_ownership','annual_inc','verification_status','issue_d','loan_status','pymnt_plan','url','desc','purpose','title','zip_code','addr_state','dti','delinq_2yrs','earliest_cr_line','inq_last_6mths','mths_since_last_delinq','mths_since_last_record','open_acc','pub_rec','revol_bal','revol_util','total_acc','initial_list_status','out_prncp','out_prncp_inv','total_pymnt','total_pymnt_inv','total_rec_prncp','total_rec_int','total_rec_late_fee','recoveries','collection_recovery_fee','last_pymnt_d','last_pymnt_amnt','next_pymnt_d','last_credit_pull_d','collections_12_mths_ex_med','mths_since_last_major_derog','policy_code','application_type','annual_inc_joint','dti_joint','verification_status_joint','acc_now_delinq','tot_coll_amt','tot_cur_bal','open_acc_6m','open_il_6m','open_il_12m','open_il_24m','mths_since_rcnt_il','total_bal_il','il_util','open_rv_12m','open_rv_24m','max_bal_bc','all_util','total_rev_hi_lim','inq_fi','total_cu_tl','inq_last_12m','acc_open_past_24mths','avg_cur_bal','bc_open_to_buy','bc_util','chargeoff_within_12_mths','delinq_amnt','mo_sin_old_il_acct','mo_sin_old_rev_tl_op','mo_sin_rcnt_rev_tl_op','mo_sin_rcnt_tl','mort_acc','mths_since_recent_bc','mths_since_recent_bc_dlq','mths_since_recent_inq','mths_since_recent_revol_delinq','num_accts_ever_120_pd','num_actv_bc_tl','num_actv_rev_tl','num_bc_sats','num_bc_tl','num_il_tl','num_op_rev_tl','num_rev_accts','num_rev_tl_bal_gt_0','num_sats','num_tl_120dpd_2m','num_tl_30dpd','num_tl_90g_dpd_24m','num_tl_op_past_12m','pct_tl_nvr_dlq','percent_bc_gt_75','pub_rec_bankruptcies','tax_liens','tot_hi_cred_lim','total_bal_ex_mort','total_bc_limit','total_il_high_credit_limit','file_name','time_stamp']"
   ]
  },
  {
   "cell_type": "code",
   "execution_count": 73,
   "metadata": {
    "collapsed": false
   },
   "outputs": [
    {
     "name": "stdout",
     "output_type": "stream",
     "text": [
      "Reading LoanStats3a and divding it into two.. based on the loan status value  \n"
     ]
    },
    {
     "name": "stderr",
     "output_type": "stream",
     "text": [
      "/Users/vikasshah/anaconda/lib/python3.5/site-packages/IPython/core/interactiveshell.py:2717: DtypeWarning: Columns (0,47) have mixed types. Specify dtype option on import or set low_memory=False.\n",
      "  interactivity=interactivity, compiler=compiler, result=result)\n"
     ]
    }
   ],
   "source": [
    "print(\"Reading LoanStats3a and divding it into two.. based on the loan status value\")\n",
    "\n",
    "Loan3aDf= pd.read_csv('LoanStats3a.csv', skiprows=[0])"
   ]
  },
  {
   "cell_type": "code",
   "execution_count": 144,
   "metadata": {
    "collapsed": false
   },
   "outputs": [],
   "source": [
    "Loan3aDf_1 = Loan3aDf.ix[(Loan3aDf['loan_status']!='Does not meet the credit policy. Status:Charged Off') & (Loan3aDf['loan_status']!='Does not meet the credit policy. Status:Fully Paid')].values\n",
    "Df_required_Loan = pd.DataFrame(Loan3aDf_1)\n",
    "\n",
    "print(\"Add column values to the dataframe\")\n",
    "Df_required_Loan.columns = [\"id\", \"member_id\", \"loan_amnt\", \"funded_amnt\",'funded_amnt_inv','term','int_rate','installment','grade','sub_grade','emp_title','emp_length','home_ownership','annual_inc','verification_status','issue_d','loan_status','pymnt_plan','url','desc','purpose','title','zip_code','addr_state','dti','delinq_2yrs','earliest_cr_line','inq_last_6mths','mths_since_last_delinq','mths_since_last_record','open_acc','pub_rec','revol_bal','revol_util','total_acc','initial_list_status','out_prncp','out_prncp_inv','total_pymnt','total_pymnt_inv','total_rec_prncp','total_rec_int','total_rec_late_fee','recoveries','collection_recovery_fee','last_pymnt_d','last_pymnt_amnt','next_pymnt_d','last_credit_pull_d','collections_12_mths_ex_med','mths_since_last_major_derog','policy_code','application_type','annual_inc_joint','dti_joint','verification_status_joint','acc_now_delinq','tot_coll_amt','tot_cur_bal','open_acc_6m','open_il_6m','open_il_12m','open_il_24m','mths_since_rcnt_il','total_bal_il','il_util','open_rv_12m','open_rv_24m','max_bal_bc','all_util','total_rev_hi_lim','inq_fi','total_cu_tl','inq_last_12m','acc_open_past_24mths','avg_cur_bal','bc_open_to_buy','bc_util','chargeoff_within_12_mths','delinq_amnt','mo_sin_old_il_acct','mo_sin_old_rev_tl_op','mo_sin_rcnt_rev_tl_op','mo_sin_rcnt_tl','mort_acc','mths_since_recent_bc','mths_since_recent_bc_dlq','mths_since_recent_inq','mths_since_recent_revol_delinq','num_accts_ever_120_pd','num_actv_bc_tl','num_actv_rev_tl','num_bc_sats','num_bc_tl','num_il_tl','num_op_rev_tl','num_rev_accts','num_rev_tl_bal_gt_0','num_sats','num_tl_120dpd_2m','num_tl_30dpd','num_tl_90g_dpd_24m','num_tl_op_past_12m','pct_tl_nvr_dlq','percent_bc_gt_75','pub_rec_bankruptcies','tax_liens','tot_hi_cred_lim','total_bal_ex_mort','total_bc_limit','total_il_high_credit_limit']\n",
    "print(\"Adding file name and timestamp..\")\n",
    "\n",
    "Df_required_Loan['file_name']='LoanStats3a'\n",
    "Df_required_Loan['time_stamp'] = datetime.now().strftime(\"%Y-%m-%d %H:%M:%S\")\n",
    "\n",
    "print(Df_required_Loan.head(2))"
   ]
  },
  {
   "cell_type": "code",
   "execution_count": 159,
   "metadata": {
    "collapsed": false
   },
   "outputs": [],
   "source": [
    "#final_df = big_frame.append(Df_required_Loan,ignore_index=True)\n",
    "\n",
    "print('merging the two dataframe as one..')\n",
    "final_df1 = pd.concat([big_frame, Df_required_Loan], ignore_index=True)"
   ]
  },
  {
   "cell_type": "code",
   "execution_count": 165,
   "metadata": {
    "collapsed": false
   },
   "outputs": [
    {
     "name": "stdout",
     "output_type": "stream",
     "text": [
      "peek at first few rows of the dataframe..\n",
      "         id    member_id loan_amnt funded_amnt funded_amnt_inv        term  \\\n",
      "0  10119623  1.19712e+07     12000       12000           12000   36 months   \n",
      "1  10224583  1.20867e+07     11100       11100           11100   36 months   \n",
      "2  10159584  1.20112e+07      9750        9750            9750   36 months   \n",
      "3  10139658  1.19912e+07     12000       12000           12000   36 months   \n",
      "\n",
      "  int_rate installment grade sub_grade         ...          pct_tl_nvr_dlq  \\\n",
      "0   11.99%      398.52     B        B3         ...                     100   \n",
      "1   14.98%      384.68     C        C3         ...                      75   \n",
      "2   13.98%      333.14     C        C1         ...                     100   \n",
      "3   13.53%       407.4     B        B5         ...                    81.2   \n",
      "\n",
      "  percent_bc_gt_75 pub_rec_bankruptcies tax_liens tot_hi_cred_lim  \\\n",
      "0                1                    0         0          365874   \n",
      "1               50                    0         0          385000   \n",
      "2             66.7                    0         0           21314   \n",
      "3             33.3                    0         0           18130   \n",
      "\n",
      "  total_bal_ex_mort total_bc_limit total_il_high_credit_limit     file_name  \\\n",
      "0             44327          10700                      57674  /LoanStats3b   \n",
      "1              6619           4000                          0  /LoanStats3b   \n",
      "2             14123           7200                       6214  /LoanStats3b   \n",
      "3             13605           7000                      10030  /LoanStats3b   \n",
      "\n",
      "            time_stamp  \n",
      "0  2017-04-05 12:34:57  \n",
      "1  2017-04-05 12:34:57  \n",
      "2  2017-04-05 12:34:57  \n",
      "3  2017-04-05 12:34:57  \n",
      "\n",
      "[4 rows x 113 columns]\n"
     ]
    }
   ],
   "source": [
    "print(\"peek at first few rows of the dataframe..\")\n",
    "print(final_df1.head(4))"
   ]
  },
  {
   "cell_type": "code",
   "execution_count": 198,
   "metadata": {
    "collapsed": false
   },
   "outputs": [
    {
     "name": "stdout",
     "output_type": "stream",
     "text": [
      "Storing the file into a csv..\n",
      "File saved successfully!\n"
     ]
    }
   ],
   "source": [
    "print(\"Storing the file into a csv..\")\n",
    "final_df1.to_csv('Combined_data_file.csv',index=None)\n",
    "print(\"File saved successfully!\")"
   ]
  },
  {
   "cell_type": "markdown",
   "metadata": {},
   "source": [
    "# Creating a separate dataset from loans that don't meet credit policy\n"
   ]
  },
  {
   "cell_type": "code",
   "execution_count": 197,
   "metadata": {
    "collapsed": false
   },
   "outputs": [
    {
     "name": "stdout",
     "output_type": "stream",
     "text": [
      "selecting rows that do not meet credit policy \n"
     ]
    }
   ],
   "source": [
    "print('selecting rows that do not meet credit policy adding it to a new dataframe..')"
   ]
  },
  {
   "cell_type": "code",
   "execution_count": 192,
   "metadata": {
    "collapsed": true
   },
   "outputs": [],
   "source": [
    "Loan3a_not_meet_status_DF = Loan3aDf.ix[(Loan3aDf['loan_status']=='Does not meet the credit policy. Status:Charged Off') | (Loan3aDf['loan_status']=='Does not meet the credit policy. Status:Fully Paid')].values "
   ]
  },
  {
   "cell_type": "code",
   "execution_count": 193,
   "metadata": {
    "collapsed": true
   },
   "outputs": [],
   "source": [
    "Loan3aDf_not_meet_status = pd.DataFrame(Loan3a_not_meet_status_DF)\n",
    "Loan3aDf_not_meet_status.columns = [\"id\", \"member_id\", \"loan_amnt\", \"funded_amnt\",'funded_amnt_inv','term','int_rate','installment','grade','sub_grade','emp_title','emp_length','home_ownership','annual_inc','verification_status','issue_d','loan_status','pymnt_plan','url','desc','purpose','title','zip_code','addr_state','dti','delinq_2yrs','earliest_cr_line','inq_last_6mths','mths_since_last_delinq','mths_since_last_record','open_acc','pub_rec','revol_bal','revol_util','total_acc','initial_list_status','out_prncp','out_prncp_inv','total_pymnt','total_pymnt_inv','total_rec_prncp','total_rec_int','total_rec_late_fee','recoveries','collection_recovery_fee','last_pymnt_d','last_pymnt_amnt','next_pymnt_d','last_credit_pull_d','collections_12_mths_ex_med','mths_since_last_major_derog','policy_code','application_type','annual_inc_joint','dti_joint','verification_status_joint','acc_now_delinq','tot_coll_amt','tot_cur_bal','open_acc_6m','open_il_6m','open_il_12m','open_il_24m','mths_since_rcnt_il','total_bal_il','il_util','open_rv_12m','open_rv_24m','max_bal_bc','all_util','total_rev_hi_lim','inq_fi','total_cu_tl','inq_last_12m','acc_open_past_24mths','avg_cur_bal','bc_open_to_buy','bc_util','chargeoff_within_12_mths','delinq_amnt','mo_sin_old_il_acct','mo_sin_old_rev_tl_op','mo_sin_rcnt_rev_tl_op','mo_sin_rcnt_tl','mort_acc','mths_since_recent_bc','mths_since_recent_bc_dlq','mths_since_recent_inq','mths_since_recent_revol_delinq','num_accts_ever_120_pd','num_actv_bc_tl','num_actv_rev_tl','num_bc_sats','num_bc_tl','num_il_tl','num_op_rev_tl','num_rev_accts','num_rev_tl_bal_gt_0','num_sats','num_tl_120dpd_2m','num_tl_30dpd','num_tl_90g_dpd_24m','num_tl_op_past_12m','pct_tl_nvr_dlq','percent_bc_gt_75','pub_rec_bankruptcies','tax_liens','tot_hi_cred_lim','total_bal_ex_mort','total_bc_limit','total_il_high_credit_limit']\n",
    "\n",
    "print(\"adding column names, file name and timestamp\")\n",
    "Loan3aDf_not_meet_status['file_name']='LoanStats3a'\n",
    "Loan3aDf_not_meet_status['time_stamp'] = datetime.now().strftime(\"%Y-%m-%d %H:%M:%S\")"
   ]
  },
  {
   "cell_type": "code",
   "execution_count": 194,
   "metadata": {
    "collapsed": false
   },
   "outputs": [],
   "source": [
    "print(\"Saving the csv file\")\n",
    "Loan3aDf_not_meet_status.to_csv('Loan3aDf_not_meet_status.csv', index=None)"
   ]
  },
  {
   "cell_type": "code",
   "execution_count": null,
   "metadata": {
    "collapsed": true
   },
   "outputs": [],
   "source": [
    "print(\"End of Script..\")"
   ]
  },
  {
   "cell_type": "code",
   "execution_count": null,
   "metadata": {
    "collapsed": true
   },
   "outputs": [],
   "source": []
  }
 ],
 "metadata": {
  "anaconda-cloud": {},
  "kernelspec": {
   "display_name": "Python [conda root]",
   "language": "python",
   "name": "conda-root-py"
  },
  "language_info": {
   "codemirror_mode": {
    "name": "ipython",
    "version": 3
   },
   "file_extension": ".py",
   "mimetype": "text/x-python",
   "name": "python",
   "nbconvert_exporter": "python",
   "pygments_lexer": "ipython3",
   "version": "3.5.2"
  }
 },
 "nbformat": 4,
 "nbformat_minor": 2
}
