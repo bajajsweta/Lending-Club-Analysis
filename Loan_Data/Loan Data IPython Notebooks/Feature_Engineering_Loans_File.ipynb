{
 "cells": [
  {
   "cell_type": "markdown",
   "metadata": {},
   "source": [
    "# Feature Engineering of Lending Club"
   ]
  },
  {
   "cell_type": "code",
   "execution_count": 80,
   "metadata": {
    "collapsed": true
   },
   "outputs": [],
   "source": [
    "import pandas as pd\n",
    "import numpy as np\n",
    "import seaborn\n",
    "from sklearn.decomposition import PCA\n",
    "from pandas.tools.plotting import scatter_matrix\n",
    "from sklearn import preprocessing"
   ]
  },
  {
   "cell_type": "code",
   "execution_count": 96,
   "metadata": {
    "collapsed": true
   },
   "outputs": [],
   "source": [
    "def feature_engineering():\n",
    "    validated_dataframe = pd.read_csv(\"LoanStats_Validated.csv\",sep=',')\n",
    "    featured_df = pd.DataFrame()\n",
    "    featured_df = validated_dataframe.drop(['total_bal_il','il_util','open_rv_12m','mths_since_recent_revol_delinq','mths_since_recent_bc_dlq','open_acc_6m','open_il_6m','open_il_12m','open_il_12m','open_il_24m','mths_since_rcnt_il','desc','mths_since_last_record','mths_since_last_major_derog','annual_inc_joint','dti_joint','verification_status_joint'], axis =1)\n",
    "    featured_df = featured_df.drop(['url','file_name','time_stamp','id','title','grade','emp_title','zip_code'], axis =1)\n",
    "    featured_df['sub_grade_category'] = pd.factorize(featured_df.sub_grade)[0]\n",
    "    featured_df['sub_grade_category'] = featured_df['sub_grade_category'].astype('category')\n",
    "    featured_df['emp_length_category'] = pd.factorize(featured_df.emp_length)[0]\n",
    "    featured_df['emp_length_category'] = featured_df['emp_length_category'].astype('category')\n",
    "    featured_df['home_ownership_category'] =  pd.factorize(featured_df.home_ownership)[0]\n",
    "    featured_df['home_ownership_category'] = featured_df['home_ownership_category'].astype('category')\n",
    "    featured_df['Loan_status_category'] = pd.factorize(featured_df.loan_status)[0]\n",
    "    featured_df['Loan_status_category'] = featured_df['Loan_status_category'].astype('category')\n",
    "    featured_df['addr_state_category'] = pd.factorize(featured_df.addr_state)[0]\n",
    "    featured_df['addr_state_category'] = featured_df['addr_state_category'].astype('category')\n",
    "    featured_df['loan_purpose_category'] = pd.factorize(featured_df.purpose)[0]\n",
    "    featured_df['loan_purpose_category'] = featured_df['loan_purpose_category'].astype('category')\n",
    "    featured_df['verification_status_category'] = pd.factorize(featured_df.verification_status)[0] \n",
    "    featured_df['verification_status_category'] = featured_df['verification_status_category'].astype('category')\n",
    "    featured_df['application_type_category'] = pd.factorize(featured_df.application_type)[0]\n",
    "    featured_df['application_type_category'] = featured_df['application_type_category'].astype('category')\n",
    "    featured_df['policy_code'] = featured_df['policy_code'].astype('category')\n",
    "    featured_df['term'] = pd.factorize(featured_df.term)[0]\n",
    "    featured_df['term'] = featured_df['term'].astype('category')\n",
    "    featured_df['loan_amnt_normalize'] = preprocessing.normalize(featured_df.loan_amnt)[0]\n",
    "    featured_df['funded_amnt_inv_normalize'] = preprocessing.normalize(featured_df.funded_amnt_inv)[0]\n",
    "    featured_df['annual_inc_normalize'] = preprocessing.normalize(featured_df.annual_inc)[0]\n",
    "    featured_df['dti_normalize'] = preprocessing.normalize(featured_df.loan_amnt)[0]\n",
    "    featured_df['total_pymnt_normalize'] = preprocessing.normalize(featured_df.total_pymnt)[0]\n",
    "    featured_df['total_pymnt_inv_normalize'] = preprocessing.normalize(featured_df.total_pymnt_inv)[0]\n",
    "    featured_df['total_acc_normalize'] = preprocessing.normalize(featured_df.total_acc)[0]\n",
    "    featured_df['revol_bal_normalize'] = preprocessing.normalize(featured_df.revol_bal)[0]\n",
    "    featured_df['revol_util_normalize'] = preprocessing.normalize(featured_df.revol_util)[0]\n",
    "    print(\"Saving the validated file in a csv..\")\n",
    "    featured_df.to_csv('LoanStats_Featured.csv',index=None)\n",
    "    print(\"Succeffully saved..\")\n",
    "    "
   ]
  },
  {
   "cell_type": "code",
   "execution_count": null,
   "metadata": {
    "collapsed": true
   },
   "outputs": [],
   "source": []
  }
 ],
 "metadata": {
  "anaconda-cloud": {},
  "kernelspec": {
   "display_name": "Python [default]",
   "language": "python",
   "name": "python3"
  },
  "language_info": {
   "codemirror_mode": {
    "name": "ipython",
    "version": 3
   },
   "file_extension": ".py",
   "mimetype": "text/x-python",
   "name": "python",
   "nbconvert_exporter": "python",
   "pygments_lexer": "ipython3",
   "version": "3.5.2"
  }
 },
 "nbformat": 4,
 "nbformat_minor": 1
}
