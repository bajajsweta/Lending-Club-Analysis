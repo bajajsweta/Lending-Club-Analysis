{
 "cells": [
  {
   "cell_type": "code",
   "execution_count": 1,
   "metadata": {
    "collapsed": false
   },
   "outputs": [
    {
     "name": "stdout",
     "output_type": "stream",
     "text": [
      "The end..\n",
      "Scraping data from lending club website.\n",
      "Downloading of csv files is completed..\n",
      "Merging individual files into one dataset..\n",
      "Fecthing all the csv files in a list..\n"
     ]
    },
    {
     "name": "stderr",
     "output_type": "stream",
     "text": [
      "DEBUG: Checking if Feature_Engg_Files() is complete\n",
      "DEBUG: Checking if Validate_Files() is complete\n",
      "INFO: Informed scheduler that task   Feature_Engg_Files__99914b932b   has status   PENDING\n",
      "DEBUG: Checking if Download_files() is complete\n",
      "INFO: Informed scheduler that task   Validate_Files__99914b932b   has status   PENDING\n",
      "INFO: Informed scheduler that task   Download_files__99914b932b   has status   DONE\n",
      "INFO: Done scheduling tasks\n",
      "INFO: Running Worker with 1 processes\n",
      "DEBUG: Asking scheduler for work...\n",
      "DEBUG: Pending tasks: 2\n",
      "INFO: [pid 11444] Worker Worker(salt=216033559, workers=1, host=LAPTOP-SS9RV1A2, username=sweta, pid=11444) running   Validate_Files()\n"
     ]
    },
    {
     "name": "stdout",
     "output_type": "stream",
     "text": [
      "running validate method..\n"
     ]
    },
    {
     "name": "stderr",
     "output_type": "stream",
     "text": [
      "ERROR: [pid 11444] Worker Worker(salt=216033559, workers=1, host=LAPTOP-SS9RV1A2, username=sweta, pid=11444) failed    Validate_Files()\n",
      "Traceback (most recent call last):\n",
      "  File \"C:\\Users\\sweta\\Anaconda3\\lib\\site-packages\\luigi\\worker.py\", line 191, in run\n",
      "    new_deps = self._run_get_new_deps()\n",
      "  File \"C:\\Users\\sweta\\Anaconda3\\lib\\site-packages\\luigi\\worker.py\", line 129, in _run_get_new_deps\n",
      "    task_gen = self.task.run()\n",
      "  File \"<ipython-input-1-2620fdad934e>\", line 37, in run\n",
      "    validate.validate_field()\n",
      "  File \"C:\\Users\\sweta\\Validation_Script.py\", line 19, in validate_field\n",
      "    data_frame = pd.read_csv('Combined_data_file.csv')\n",
      "  File \"C:\\Users\\sweta\\Anaconda3\\lib\\site-packages\\pandas\\io\\parsers.py\", line 562, in parser_f\n",
      "    return _read(filepath_or_buffer, kwds)\n",
      "  File \"C:\\Users\\sweta\\Anaconda3\\lib\\site-packages\\pandas\\io\\parsers.py\", line 325, in _read\n",
      "    return parser.read()\n",
      "  File \"C:\\Users\\sweta\\Anaconda3\\lib\\site-packages\\pandas\\io\\parsers.py\", line 815, in read\n",
      "    ret = self._engine.read(nrows)\n",
      "  File \"C:\\Users\\sweta\\Anaconda3\\lib\\site-packages\\pandas\\io\\parsers.py\", line 1314, in read\n",
      "    data = self._reader.read(nrows)\n",
      "  File \"pandas\\parser.pyx\", line 805, in pandas.parser.TextReader.read (pandas\\parser.c:8748)\n",
      "  File \"pandas\\parser.pyx\", line 827, in pandas.parser.TextReader._read_low_memory (pandas\\parser.c:9003)\n",
      "  File \"pandas\\parser.pyx\", line 904, in pandas.parser.TextReader._read_rows (pandas\\parser.c:10022)\n",
      "  File \"pandas\\parser.pyx\", line 1011, in pandas.parser.TextReader._convert_column_data (pandas\\parser.c:11397)\n",
      "  File \"pandas\\parser.pyx\", line 1071, in pandas.parser.TextReader._convert_tokens (pandas\\parser.c:12302)\n",
      "  File \"pandas\\parser.pyx\", line 1157, in pandas.parser.TextReader._convert_with_dtype (pandas\\parser.c:13740)\n",
      "  File \"pandas\\parser.pyx\", line 1177, in pandas.parser.TextReader._string_convert (pandas\\parser.c:13983)\n",
      "  File \"pandas\\parser.pyx\", line 1402, in pandas.parser._string_box_utf8 (pandas\\parser.c:19298)\n",
      "UnicodeDecodeError: 'utf-8' codec can't decode byte 0xc3 in position 18: invalid continuation byte\n",
      "DEBUG: 1 running tasks, waiting for next task to finish\n",
      "INFO: Informed scheduler that task   Validate_Files__99914b932b   has status   FAILED\n",
      "DEBUG: Asking scheduler for work...\n",
      "DEBUG: Done\n",
      "DEBUG: There are no more tasks to run at this time\n",
      "DEBUG: There are 2 pending tasks possibly being run by other workers\n",
      "DEBUG: There are 2 pending tasks unique to this worker\n",
      "DEBUG: There are 2 pending tasks last scheduled by this worker\n",
      "INFO: Worker Worker(salt=216033559, workers=1, host=LAPTOP-SS9RV1A2, username=sweta, pid=11444) was stopped. Shutting down Keep-Alive thread\n",
      "INFO: \n",
      "===== Luigi Execution Summary =====\n",
      "\n",
      "Scheduled 3 tasks of which:\n",
      "* 1 present dependencies were encountered:\n",
      "    - 1 Download_files()\n",
      "* 1 failed:\n",
      "    - 1 Validate_Files()\n",
      "* 1 were left pending, among these:\n",
      "    * 1 had failed dependencies:\n",
      "        - 1 Feature_Engg_Files()\n",
      "\n",
      "This progress looks :( because there were failed tasks\n",
      "\n",
      "===== Luigi Execution Summary =====\n",
      "\n"
     ]
    }
   ],
   "source": [
    "# coding: utf-8\n",
    "\n",
    "# In[7]:+\n",
    "\n",
    "# Filename: run_luigi.py\n",
    "import luigi\n",
    "import Validation_Script as validate\n",
    "import Merging_The_file_To_one_Dataset as merge_file\n",
    "import Feature_Engineering_Loans_File as feature_file\n",
    "import time\n",
    "\n",
    "class Download_files(luigi.Task):\n",
    "     \n",
    "    def requires(self):\n",
    "        return []\n",
    "\n",
    "    \n",
    "    def output(self):\n",
    "        return luigi.LocalTarget(\"Combined_data_file.csv\")\n",
    "    \n",
    "    def run(self):\n",
    "        merge_file.download_data()\n",
    "        merge_file.reading_files_to_merge()\n",
    "        \n",
    "class Validate_Files(luigi.Task):\n",
    "     \n",
    "    def requires(self):\n",
    "        time.sleep(20)\n",
    "        return [Download_files()]\n",
    "    \n",
    "    def output(self):\n",
    "        return luigi.LocalTarget(\"LoanStats_Validated.csv\")\n",
    "\n",
    "    def run(self):\n",
    "        print(\"running validate method..\")\n",
    "        time.sleep(20)\n",
    "        validate.validate_field()\n",
    "        \n",
    "class Feature_Engg_Files(luigi.Task):\n",
    "     \n",
    "    def requires(self):\n",
    "        time.sleep(20)\n",
    "        return [Validate_Files()]\n",
    "    \n",
    "    def output(self):\n",
    "        return luigi.LocalTarget(\"LoanStats_Featured.csv\")\n",
    "    \n",
    "\n",
    "    def run(self):\n",
    "        print(\"running feature Engineering method..\")\n",
    "        feature_file.feature_engineering()\n",
    "    \n",
    "                \n",
    "if __name__ == '__main__':\n",
    "    luigi.run(['Feature_Engg_Files','--local-scheduler'])\n",
    "\n",
    "\n",
    "\n",
    "\n"
   ]
  },
  {
   "cell_type": "code",
   "execution_count": null,
   "metadata": {
    "collapsed": true
   },
   "outputs": [],
   "source": []
  }
 ],
 "metadata": {
  "anaconda-cloud": {},
  "kernelspec": {
   "display_name": "Python [default]",
   "language": "python",
   "name": "python3"
  },
  "language_info": {
   "codemirror_mode": {
    "name": "ipython",
    "version": 3
   },
   "file_extension": ".py",
   "mimetype": "text/x-python",
   "name": "python",
   "nbconvert_exporter": "python",
   "pygments_lexer": "ipython3",
   "version": "3.5.2"
  }
 },
 "nbformat": 4,
 "nbformat_minor": 1
}
