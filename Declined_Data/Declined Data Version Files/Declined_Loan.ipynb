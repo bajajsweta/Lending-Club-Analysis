{
 "cells": [
  {
   "cell_type": "code",
   "execution_count": 1,
   "metadata": {
    "collapsed": true
   },
   "outputs": [],
   "source": [
    "import pandas as pd\n",
    "import numpy as np\n",
    "import os\n",
    "import requests\n",
    "import zipfile\n",
    "import io\n",
    "import datetime \n"
   ]
  },
  {
   "cell_type": "code",
   "execution_count": null,
   "metadata": {
    "collapsed": true
   },
   "outputs": [],
   "source": [
    "s = requests.session()\n",
    "years = ['A','B','D']\n",
    "\n",
    "for year in years:\n",
    "    url3 = 'https://resources.lendingclub.com/RejectStats'+str(year)+'.csv.zip'\n",
    "    file = s.get(url3)\n",
    "    m=zipfile.ZipFile(io.BytesIO(file.content))\n",
    "    m.extractall()\n"
   ]
  },
  {
   "cell_type": "code",
   "execution_count": null,
   "metadata": {
    "collapsed": true
   },
   "outputs": [],
   "source": [
    "years = [1,2,3,4]\n",
    "for year in years:\n",
    "    url3 = 'https://resources.lendingclub.com/LoanStats_2016Q'+str(year)+'.csv.zip'\n",
    "    file = s.get(url3)\n",
    "    m=zipfile.ZipFile(io.BytesIO(file.content))\n",
    "    m.extractall()"
   ]
  },
  {
   "cell_type": "code",
   "execution_count": 70,
   "metadata": {
    "collapsed": false
   },
   "outputs": [
    {
     "data": {
      "text/plain": [
       "['RejectStatsA.csv',\n",
       " 'RejectStatsB.csv',\n",
       " 'RejectStatsD.csv',\n",
       " 'RejectStats_2016Q1.csv',\n",
       " 'RejectStats_2016Q2.csv',\n",
       " 'RejectStats_2016Q3.csv',\n",
       " 'RejectStats_2016Q4.csv']"
      ]
     },
     "execution_count": 70,
     "metadata": {},
     "output_type": "execute_result"
    }
   ],
   "source": [
    "declinedloans_file = [file for file in os.listdir() if file.startswith('Reject')]\n",
    "declinedloans_file[:]"
   ]
  },
  {
   "cell_type": "code",
   "execution_count": 30,
   "metadata": {
    "collapsed": true
   },
   "outputs": [],
   "source": [
    "def load_data(file):\n",
    "    df = pd.read_csv(file,delimiter=',',skiprows=1)\n",
    "    return df"
   ]
  },
  {
   "cell_type": "code",
   "execution_count": 104,
   "metadata": {
    "collapsed": false
   },
   "outputs": [],
   "source": [
    "df = pd.DataFrame()\n",
    "for i in range(len(declinedloans_file)):\n",
    "    data = load_data(declinedloans_file[i])\n",
    "    \n",
    "    df = df.append(data)\n",
    "df.to_csv('CombinedRejectLoanStats.csv', index=None)\n",
    "    "
   ]
  },
  {
   "cell_type": "code",
   "execution_count": 105,
   "metadata": {
    "collapsed": false
   },
   "outputs": [
    {
     "data": {
      "text/plain": [
       "'C:\\\\Users\\\\antri\\\\antriksh'"
      ]
     },
     "execution_count": 105,
     "metadata": {},
     "output_type": "execute_result"
    }
   ],
   "source": [
    "os.getcwd()"
   ]
  },
  {
   "cell_type": "code",
   "execution_count": 106,
   "metadata": {
    "collapsed": false
   },
   "outputs": [
    {
     "data": {
      "text/plain": [
       "Amount Requested              0\n",
       "Application Date              0\n",
       "Loan Title                  197\n",
       "Risk_Score              6402779\n",
       "Debt-To-Income Ratio          0\n",
       "Zip Code                    291\n",
       "State                        22\n",
       "Employment Length             0\n",
       "Policy Code                   0\n",
       "dtype: int64"
      ]
     },
     "execution_count": 106,
     "metadata": {},
     "output_type": "execute_result"
    }
   ],
   "source": [
    "df.isnull().sum()"
   ]
  },
  {
   "cell_type": "code",
   "execution_count": 107,
   "metadata": {
    "collapsed": false
   },
   "outputs": [
    {
     "data": {
      "text/plain": [
       "Amount Requested        float64\n",
       "Application Date         object\n",
       "Loan Title               object\n",
       "Risk_Score              float64\n",
       "Debt-To-Income Ratio     object\n",
       "Zip Code                 object\n",
       "State                    object\n",
       "Employment Length        object\n",
       "Policy Code               int64\n",
       "dtype: object"
      ]
     },
     "execution_count": 107,
     "metadata": {},
     "output_type": "execute_result"
    }
   ],
   "source": [
    "df.dtypes"
   ]
  },
  {
   "cell_type": "markdown",
   "metadata": {},
   "source": [
    "CHECK FOR AMOUNT REQUESTED"
   ]
  },
  {
   "cell_type": "markdown",
   "metadata": {},
   "source": [
    "def validate_amount_requested(df):\n",
    "\n",
    "    if any(df['Amount Requested'].isnull()):\n",
    "        df['Amount Requested'].fillna(df['Amount Requested'].mean())\n",
    "    return df\n",
    "    "
   ]
  },
  {
   "cell_type": "markdown",
   "metadata": {},
   "source": [
    "[FILL ALL EMPTY VALUES"
   ]
  },
  {
   "cell_type": "code",
   "execution_count": 108,
   "metadata": {
    "collapsed": true
   },
   "outputs": [],
   "source": [
    "def fill_empty_values(df):\n",
    "    df['Amount Requested'].fillna(df['Amount Requested'].mean(), inplace=True)\n",
    "    df['Application Date'].fillna(method='bfill', inplace=True)\n",
    "    df['Loan Title'].fillna('NoValue', inplace=True)\n",
    "    df['Risk_Score'].fillna(0.0, inplace=True)\n",
    "    df['Zip Code'].fillna('000xx', inplace=True)\n",
    "    df['Employment Length'].replace('n/a','Unknown years', inplace=True)\n",
    "    df['Debt-To-Income Ratio'] = df['Debt-To-Income Ratio'].str.split('%',1).str[0]\n",
    "    df['Debt-To-Income Ratio']=pd.to_numeric(df['Debt-To-Income Ratio'], errors='ignore')\n",
    "   \n",
    "    return df"
   ]
  },
  {
   "cell_type": "markdown",
   "metadata": {},
   "source": [
    "CHECK FOR APPLICATION DATE"
   ]
  },
  {
   "cell_type": "code",
   "execution_count": 109,
   "metadata": {
    "collapsed": true
   },
   "outputs": [],
   "source": [
    "def validate_applicate_date2(df):\n",
    "\n",
    "    for col in df1['Application Date']:\n",
    "        try:\n",
    "            if datetime.strptime(col, '%Y-%m-%d'):\n",
    "                \n",
    "                return df\n",
    "            else:\n",
    "                print(\"Null Value\")### Log here\n",
    "        except ValueError:\n",
    "            print('Not in the right format')"
   ]
  },
  {
   "cell_type": "markdown",
   "metadata": {},
   "source": [
    "CHECK FOR RISK SCORE"
   ]
  },
  {
   "cell_type": "code",
   "execution_count": 110,
   "metadata": {
    "collapsed": true
   },
   "outputs": [],
   "source": [
    "def validate_risk_score(df):\n",
    "    if any(df['Risk_Score']) not in range(0,1000):\n",
    "        print(\" Risk Score value out of range\")\n",
    "    return df"
   ]
  },
  {
   "cell_type": "markdown",
   "metadata": {},
   "source": [
    "CHECK STATES (REMOVE ROWS WITH EMPTY STATES)"
   ]
  },
  {
   "cell_type": "code",
   "execution_count": 111,
   "metadata": {
    "collapsed": false
   },
   "outputs": [],
   "source": [
    "def validate_states(df):\n",
    "    df = df[df.State.notnull()]\n",
    "    return df\n",
    "\n"
   ]
  },
  {
   "cell_type": "markdown",
   "metadata": {},
   "source": [
    "CHECK ONLY REJECTED LOANS ARE THERE"
   ]
  },
  {
   "cell_type": "code",
   "execution_count": 112,
   "metadata": {
    "collapsed": false
   },
   "outputs": [],
   "source": [
    "def validate_policy_code(df):\n",
    "    if any(df['Policy Code'] == 1):\n",
    "         print(\"Wrong policy code data\")\n",
    "    return df"
   ]
  },
  {
   "cell_type": "code",
   "execution_count": 113,
   "metadata": {
    "collapsed": false
   },
   "outputs": [],
   "source": [
    "df = fill_empty_values(df)\n",
    "#df = validate_applicate_date2(df)\n",
    "df = validate_risk_score(df)\n",
    "df = validate_states(df)\n",
    "df = validate_policy_code(df) "
   ]
  },
  {
   "cell_type": "code",
   "execution_count": 114,
   "metadata": {
    "collapsed": false
   },
   "outputs": [
    {
     "data": {
      "text/plain": [
       "Amount Requested        0\n",
       "Application Date        0\n",
       "Loan Title              0\n",
       "Risk_Score              0\n",
       "Debt-To-Income Ratio    0\n",
       "Zip Code                0\n",
       "State                   0\n",
       "Employment Length       0\n",
       "Policy Code             0\n",
       "dtype: int64"
      ]
     },
     "execution_count": 114,
     "metadata": {},
     "output_type": "execute_result"
    }
   ],
   "source": [
    "df.isnull().sum()"
   ]
  },
  {
   "cell_type": "code",
   "execution_count": 129,
   "metadata": {
    "collapsed": false
   },
   "outputs": [
    {
     "data": {
      "text/html": [
       "<div>\n",
       "<table border=\"1\" class=\"dataframe\">\n",
       "  <thead>\n",
       "    <tr style=\"text-align: right;\">\n",
       "      <th></th>\n",
       "      <th>Amount Requested</th>\n",
       "      <th>Application Date</th>\n",
       "      <th>Loan Title</th>\n",
       "      <th>Risk_Score</th>\n",
       "      <th>Debt-To-Income Ratio</th>\n",
       "      <th>Zip Code</th>\n",
       "      <th>State</th>\n",
       "      <th>Employment Length</th>\n",
       "      <th>Policy Code</th>\n",
       "    </tr>\n",
       "  </thead>\n",
       "  <tbody>\n",
       "    <tr>\n",
       "      <th>0</th>\n",
       "      <td>1000.0</td>\n",
       "      <td>2007</td>\n",
       "      <td>Wedding Covered but No Honeymoon</td>\n",
       "      <td>693.0</td>\n",
       "      <td>10.00</td>\n",
       "      <td>481xx</td>\n",
       "      <td>NM</td>\n",
       "      <td>4 years</td>\n",
       "      <td>0</td>\n",
       "    </tr>\n",
       "    <tr>\n",
       "      <th>1</th>\n",
       "      <td>1000.0</td>\n",
       "      <td>2007</td>\n",
       "      <td>Consolidating Debt</td>\n",
       "      <td>703.0</td>\n",
       "      <td>10.00</td>\n",
       "      <td>010xx</td>\n",
       "      <td>MA</td>\n",
       "      <td>&lt; 1 year</td>\n",
       "      <td>0</td>\n",
       "    </tr>\n",
       "    <tr>\n",
       "      <th>2</th>\n",
       "      <td>11000.0</td>\n",
       "      <td>2007</td>\n",
       "      <td>Want to consolidate my debt</td>\n",
       "      <td>715.0</td>\n",
       "      <td>10.00</td>\n",
       "      <td>212xx</td>\n",
       "      <td>MD</td>\n",
       "      <td>1 year</td>\n",
       "      <td>0</td>\n",
       "    </tr>\n",
       "    <tr>\n",
       "      <th>3</th>\n",
       "      <td>6000.0</td>\n",
       "      <td>2007</td>\n",
       "      <td>waksman</td>\n",
       "      <td>698.0</td>\n",
       "      <td>38.64</td>\n",
       "      <td>017xx</td>\n",
       "      <td>MA</td>\n",
       "      <td>&lt; 1 year</td>\n",
       "      <td>0</td>\n",
       "    </tr>\n",
       "    <tr>\n",
       "      <th>4</th>\n",
       "      <td>1500.0</td>\n",
       "      <td>2007</td>\n",
       "      <td>mdrigo</td>\n",
       "      <td>509.0</td>\n",
       "      <td>9.43</td>\n",
       "      <td>209xx</td>\n",
       "      <td>MD</td>\n",
       "      <td>&lt; 1 year</td>\n",
       "      <td>0</td>\n",
       "    </tr>\n",
       "  </tbody>\n",
       "</table>\n",
       "</div>"
      ],
      "text/plain": [
       "   Amount Requested Application Date                        Loan Title  \\\n",
       "0            1000.0             2007  Wedding Covered but No Honeymoon   \n",
       "1            1000.0             2007                Consolidating Debt   \n",
       "2           11000.0             2007       Want to consolidate my debt   \n",
       "3            6000.0             2007                           waksman   \n",
       "4            1500.0             2007                            mdrigo   \n",
       "\n",
       "   Risk_Score  Debt-To-Income Ratio Zip Code State Employment Length  \\\n",
       "0       693.0                 10.00    481xx    NM           4 years   \n",
       "1       703.0                 10.00    010xx    MA          < 1 year   \n",
       "2       715.0                 10.00    212xx    MD            1 year   \n",
       "3       698.0                 38.64    017xx    MA          < 1 year   \n",
       "4       509.0                  9.43    209xx    MD          < 1 year   \n",
       "\n",
       "   Policy Code  \n",
       "0            0  \n",
       "1            0  \n",
       "2            0  \n",
       "3            0  \n",
       "4            0  "
      ]
     },
     "execution_count": 129,
     "metadata": {},
     "output_type": "execute_result"
    }
   ],
   "source": [
    "df['Application Date']=df['Application Date'].str[0:4]\n",
    "df.head(5)"
   ]
  },
  {
   "cell_type": "code",
   "execution_count": 42,
   "metadata": {
    "collapsed": true
   },
   "outputs": [],
   "source": [
    "df.to_csv('ValidatedCombinedRejectLoan.csv', index=None)"
   ]
  },
  {
   "cell_type": "code",
   "execution_count": 116,
   "metadata": {
    "collapsed": true
   },
   "outputs": [],
   "source": [
    "df1 = pd.DataFrame()"
   ]
  },
  {
   "cell_type": "code",
   "execution_count": 133,
   "metadata": {
    "collapsed": false
   },
   "outputs": [
    {
     "data": {
      "text/html": [
       "<div>\n",
       "<table border=\"1\" class=\"dataframe\">\n",
       "  <thead>\n",
       "    <tr style=\"text-align: right;\">\n",
       "      <th></th>\n",
       "      <th>Application Date</th>\n",
       "      <th>Amount Requested</th>\n",
       "      <th>Risk_Score</th>\n",
       "      <th>Debt-To-Income Ratio</th>\n",
       "    </tr>\n",
       "  </thead>\n",
       "  <tbody>\n",
       "    <tr>\n",
       "      <th>0</th>\n",
       "      <td>2007</td>\n",
       "      <td>8547.615013</td>\n",
       "      <td>539.419416</td>\n",
       "      <td>1151.718447</td>\n",
       "    </tr>\n",
       "    <tr>\n",
       "      <th>1</th>\n",
       "      <td>2008</td>\n",
       "      <td>8612.787788</td>\n",
       "      <td>516.151515</td>\n",
       "      <td>1773.825622</td>\n",
       "    </tr>\n",
       "    <tr>\n",
       "      <th>2</th>\n",
       "      <td>2009</td>\n",
       "      <td>10330.259241</td>\n",
       "      <td>515.131284</td>\n",
       "      <td>4321.066822</td>\n",
       "    </tr>\n",
       "    <tr>\n",
       "      <th>3</th>\n",
       "      <td>2010</td>\n",
       "      <td>11070.965643</td>\n",
       "      <td>541.403248</td>\n",
       "      <td>1235.334496</td>\n",
       "    </tr>\n",
       "    <tr>\n",
       "      <th>4</th>\n",
       "      <td>2011</td>\n",
       "      <td>12900.989247</td>\n",
       "      <td>571.325825</td>\n",
       "      <td>865.375848</td>\n",
       "    </tr>\n",
       "    <tr>\n",
       "      <th>5</th>\n",
       "      <td>2012</td>\n",
       "      <td>14361.402868</td>\n",
       "      <td>597.620093</td>\n",
       "      <td>255.567849</td>\n",
       "    </tr>\n",
       "    <tr>\n",
       "      <th>6</th>\n",
       "      <td>2013</td>\n",
       "      <td>13236.073610</td>\n",
       "      <td>591.493768</td>\n",
       "      <td>214.585803</td>\n",
       "    </tr>\n",
       "    <tr>\n",
       "      <th>7</th>\n",
       "      <td>2014</td>\n",
       "      <td>12500.403927</td>\n",
       "      <td>549.519930</td>\n",
       "      <td>171.445482</td>\n",
       "    </tr>\n",
       "    <tr>\n",
       "      <th>8</th>\n",
       "      <td>2015</td>\n",
       "      <td>14205.735540</td>\n",
       "      <td>113.743410</td>\n",
       "      <td>119.473243</td>\n",
       "    </tr>\n",
       "    <tr>\n",
       "      <th>9</th>\n",
       "      <td>2016</td>\n",
       "      <td>13365.690186</td>\n",
       "      <td>135.230500</td>\n",
       "      <td>122.662815</td>\n",
       "    </tr>\n",
       "  </tbody>\n",
       "</table>\n",
       "</div>"
      ],
      "text/plain": [
       "  Application Date  Amount Requested  Risk_Score  Debt-To-Income Ratio\n",
       "0             2007       8547.615013  539.419416           1151.718447\n",
       "1             2008       8612.787788  516.151515           1773.825622\n",
       "2             2009      10330.259241  515.131284           4321.066822\n",
       "3             2010      11070.965643  541.403248           1235.334496\n",
       "4             2011      12900.989247  571.325825            865.375848\n",
       "5             2012      14361.402868  597.620093            255.567849\n",
       "6             2013      13236.073610  591.493768            214.585803\n",
       "7             2014      12500.403927  549.519930            171.445482\n",
       "8             2015      14205.735540  113.743410            119.473243\n",
       "9             2016      13365.690186  135.230500            122.662815"
      ]
     },
     "execution_count": 133,
     "metadata": {},
     "output_type": "execute_result"
    }
   ],
   "source": [
    "df1 = df.groupby('Application Date',as_index=False)['Amount Requested','Risk_Score','Debt-To-Income Ratio'].mean()\n",
    "df1"
   ]
  },
  {
   "cell_type": "code",
   "execution_count": 123,
   "metadata": {
    "collapsed": false
   },
   "outputs": [
    {
     "data": {
      "text/html": [
       "<div>\n",
       "<table border=\"1\" class=\"dataframe\">\n",
       "  <thead>\n",
       "    <tr style=\"text-align: right;\">\n",
       "      <th></th>\n",
       "      <th>Employment Length</th>\n",
       "      <th>Risk_Score</th>\n",
       "    </tr>\n",
       "  </thead>\n",
       "  <tbody>\n",
       "    <tr>\n",
       "      <th>0</th>\n",
       "      <td>1 year</td>\n",
       "      <td>428.119948</td>\n",
       "    </tr>\n",
       "    <tr>\n",
       "      <th>1</th>\n",
       "      <td>10+ years</td>\n",
       "      <td>427.007873</td>\n",
       "    </tr>\n",
       "    <tr>\n",
       "      <th>2</th>\n",
       "      <td>2 years</td>\n",
       "      <td>420.198242</td>\n",
       "    </tr>\n",
       "    <tr>\n",
       "      <th>3</th>\n",
       "      <td>3 years</td>\n",
       "      <td>417.630125</td>\n",
       "    </tr>\n",
       "    <tr>\n",
       "      <th>4</th>\n",
       "      <td>4 years</td>\n",
       "      <td>426.367656</td>\n",
       "    </tr>\n",
       "    <tr>\n",
       "      <th>5</th>\n",
       "      <td>5 years</td>\n",
       "      <td>93.460627</td>\n",
       "    </tr>\n",
       "    <tr>\n",
       "      <th>6</th>\n",
       "      <td>6 years</td>\n",
       "      <td>442.517626</td>\n",
       "    </tr>\n",
       "    <tr>\n",
       "      <th>7</th>\n",
       "      <td>7 years</td>\n",
       "      <td>445.624150</td>\n",
       "    </tr>\n",
       "    <tr>\n",
       "      <th>8</th>\n",
       "      <td>8 years</td>\n",
       "      <td>418.972499</td>\n",
       "    </tr>\n",
       "    <tr>\n",
       "      <th>9</th>\n",
       "      <td>9 years</td>\n",
       "      <td>425.398611</td>\n",
       "    </tr>\n",
       "    <tr>\n",
       "      <th>10</th>\n",
       "      <td>&lt; 1 year</td>\n",
       "      <td>279.117153</td>\n",
       "    </tr>\n",
       "    <tr>\n",
       "      <th>11</th>\n",
       "      <td>Unknown years</td>\n",
       "      <td>160.639063</td>\n",
       "    </tr>\n",
       "  </tbody>\n",
       "</table>\n",
       "</div>"
      ],
      "text/plain": [
       "   Employment Length  Risk_Score\n",
       "0             1 year  428.119948\n",
       "1          10+ years  427.007873\n",
       "2            2 years  420.198242\n",
       "3            3 years  417.630125\n",
       "4            4 years  426.367656\n",
       "5            5 years   93.460627\n",
       "6            6 years  442.517626\n",
       "7            7 years  445.624150\n",
       "8            8 years  418.972499\n",
       "9            9 years  425.398611\n",
       "10          < 1 year  279.117153\n",
       "11     Unknown years  160.639063"
      ]
     },
     "execution_count": 123,
     "metadata": {},
     "output_type": "execute_result"
    }
   ],
   "source": [
    "df1 = df.groupby('Employment Length',as_index=False)['Risk_Score'].mean()\n",
    "df1"
   ]
  },
  {
   "cell_type": "code",
   "execution_count": 125,
   "metadata": {
    "collapsed": false
   },
   "outputs": [
    {
     "data": {
      "text/html": [
       "<div>\n",
       "<table border=\"1\" class=\"dataframe\">\n",
       "  <thead>\n",
       "    <tr style=\"text-align: right;\">\n",
       "      <th></th>\n",
       "      <th>Employment Length</th>\n",
       "      <th>Debt-To-Income Ratio</th>\n",
       "    </tr>\n",
       "  </thead>\n",
       "  <tbody>\n",
       "    <tr>\n",
       "      <th>0</th>\n",
       "      <td>1 year</td>\n",
       "      <td>472.121296</td>\n",
       "    </tr>\n",
       "    <tr>\n",
       "      <th>1</th>\n",
       "      <td>10+ years</td>\n",
       "      <td>232.665416</td>\n",
       "    </tr>\n",
       "    <tr>\n",
       "      <th>2</th>\n",
       "      <td>2 years</td>\n",
       "      <td>530.984838</td>\n",
       "    </tr>\n",
       "    <tr>\n",
       "      <th>3</th>\n",
       "      <td>3 years</td>\n",
       "      <td>471.109204</td>\n",
       "    </tr>\n",
       "    <tr>\n",
       "      <th>4</th>\n",
       "      <td>4 years</td>\n",
       "      <td>373.889332</td>\n",
       "    </tr>\n",
       "    <tr>\n",
       "      <th>5</th>\n",
       "      <td>5 years</td>\n",
       "      <td>63.481089</td>\n",
       "    </tr>\n",
       "    <tr>\n",
       "      <th>6</th>\n",
       "      <td>6 years</td>\n",
       "      <td>343.888610</td>\n",
       "    </tr>\n",
       "    <tr>\n",
       "      <th>7</th>\n",
       "      <td>7 years</td>\n",
       "      <td>362.329835</td>\n",
       "    </tr>\n",
       "    <tr>\n",
       "      <th>8</th>\n",
       "      <td>8 years</td>\n",
       "      <td>348.032573</td>\n",
       "    </tr>\n",
       "    <tr>\n",
       "      <th>9</th>\n",
       "      <td>9 years</td>\n",
       "      <td>309.028242</td>\n",
       "    </tr>\n",
       "    <tr>\n",
       "      <th>10</th>\n",
       "      <td>&lt; 1 year</td>\n",
       "      <td>202.102817</td>\n",
       "    </tr>\n",
       "    <tr>\n",
       "      <th>11</th>\n",
       "      <td>Unknown years</td>\n",
       "      <td>104.649862</td>\n",
       "    </tr>\n",
       "  </tbody>\n",
       "</table>\n",
       "</div>"
      ],
      "text/plain": [
       "   Employment Length  Debt-To-Income Ratio\n",
       "0             1 year            472.121296\n",
       "1          10+ years            232.665416\n",
       "2            2 years            530.984838\n",
       "3            3 years            471.109204\n",
       "4            4 years            373.889332\n",
       "5            5 years             63.481089\n",
       "6            6 years            343.888610\n",
       "7            7 years            362.329835\n",
       "8            8 years            348.032573\n",
       "9            9 years            309.028242\n",
       "10          < 1 year            202.102817\n",
       "11     Unknown years            104.649862"
      ]
     },
     "execution_count": 125,
     "metadata": {},
     "output_type": "execute_result"
    }
   ],
   "source": [
    "df1 = df.groupby('Employment Length',as_index=False)['Debt-To-Income Ratio'].mean()\n",
    "df1"
   ]
  },
  {
   "cell_type": "code",
   "execution_count": 124,
   "metadata": {
    "collapsed": false
   },
   "outputs": [
    {
     "data": {
      "image/png": "[encoded data removed]",
      "text/plain": [
       "<matplotlib.figure.Figure at 0x1d60d14fc18>"
      ]
     },
     "metadata": {},
     "output_type": "display_data"
    }
   ],
   "source": [
    "import matplotlib.pyplot as plt; plt.rcdefaults()\n",
    "import numpy as np\n",
    "import matplotlib.pyplot as plt\n",
    "#rcParams['figure.figsize']=10,5\n",
    " \n",
    "objects = df1['Employment Length']\n",
    "y_pos = np.arange(len(objects))\n",
    "performance = df1['Risk_Score']\n",
    " \n",
    "plt.bar(y_pos, performance, align='center', alpha=0.5)\n",
    "plt.xticks(y_pos, objects)\n",
    "plt.ylabel('Risk/FICO_Score')\n",
    "plt.title('Score based on Employement')\n",
    " \n",
    "plt.show()"
   ]
  },
  {
   "cell_type": "code",
   "execution_count": 126,
   "metadata": {
    "collapsed": false
   },
   "outputs": [
    {
     "data": {
      "image/png": "[encoded data removed]",
      "text/plain": [
       "<matplotlib.figure.Figure at 0x1d78bc71be0>"
      ]
     },
     "metadata": {},
     "output_type": "display_data"
    }
   ],
   "source": [
    "import matplotlib.pyplot as plt; plt.rcdefaults()\n",
    "import numpy as np\n",
    "import matplotlib.pyplot as plt\n",
    "#rcParams['figure.figsize']=10,5\n",
    " \n",
    "objects = df1['Employment Length']\n",
    "y_pos = np.arange(len(objects))\n",
    "performance = df1['Debt-To-Income Ratio']\n",
    " \n",
    "plt.bar(y_pos, performance, align='center', alpha=1.0)\n",
    "plt.xticks(y_pos, objects)\n",
    "plt.ylabel('Debt to Income')\n",
    "plt.title('Debt to Income based on employement')\n",
    " \n",
    "plt.show()"
   ]
  },
  {
   "cell_type": "code",
   "execution_count": 134,
   "metadata": {
    "collapsed": false
   },
   "outputs": [
    {
     "data": {
      "text/html": [
       "<div>\n",
       "<table border=\"1\" class=\"dataframe\">\n",
       "  <thead>\n",
       "    <tr style=\"text-align: right;\">\n",
       "      <th></th>\n",
       "      <th>Application Date</th>\n",
       "      <th>Amount Requested</th>\n",
       "      <th>Risk_Score</th>\n",
       "      <th>Debt-To-Income Ratio</th>\n",
       "    </tr>\n",
       "  </thead>\n",
       "  <tbody>\n",
       "    <tr>\n",
       "      <th>0</th>\n",
       "      <td>2007</td>\n",
       "      <td>8547.615013</td>\n",
       "      <td>539.419416</td>\n",
       "      <td>1151.718447</td>\n",
       "    </tr>\n",
       "    <tr>\n",
       "      <th>1</th>\n",
       "      <td>2008</td>\n",
       "      <td>8612.787788</td>\n",
       "      <td>516.151515</td>\n",
       "      <td>1773.825622</td>\n",
       "    </tr>\n",
       "  </tbody>\n",
       "</table>\n",
       "</div>"
      ],
      "text/plain": [
       "  Application Date  Amount Requested  Risk_Score  Debt-To-Income Ratio\n",
       "0             2007       8547.615013  539.419416           1151.718447\n",
       "1             2008       8612.787788  516.151515           1773.825622"
      ]
     },
     "execution_count": 134,
     "metadata": {},
     "output_type": "execute_result"
    }
   ],
   "source": [
    "df1.head(2)"
   ]
  },
  {
   "cell_type": "code",
   "execution_count": 141,
   "metadata": {
    "collapsed": false
   },
   "outputs": [
    {
     "data": {
      "image/png": "[encoded data removed]",
      "text/plain": [
       "<matplotlib.figure.Figure at 0x1d61ba27390>"
      ]
     },
     "metadata": {},
     "output_type": "display_data"
    }
   ],
   "source": [
    "from matplotlib import pyplot as plt\n",
    "from matplotlib import style\n",
    "#rcParams['figure.figsize']=10,5\n",
    "\n",
    "style.use('ggplot')\n",
    "\n",
    "x = df1['Application Date']\n",
    "y = df1['Amount Requested']\n",
    "\n",
    "x2 = df1['Application Date']\n",
    "y2 = df1['Risk_Score']\n",
    "\n",
    "x3 = df1['Application Date']\n",
    "y3 = df1['Debt-To-Income Ratio']\n",
    "\n",
    "\n",
    "plt.plot(x,y,'g',label='Total Amount Requested', linewidth=5)\n",
    "plt.plot(x2,y2,'c',label='FICO_Score',linewidth=5)\n",
    "plt.plot(x3,y3,'r',label='Debt To Income',linewidth=5)\n",
    "\n",
    "plt.title('Declined Loan Summary over Time')\n",
    "plt.ylabel('value')\n",
    "plt.xlabel('Years')\n",
    "\n",
    "plt.legend()\n",
    "#plt.xticks(np.arange(min(x), max(x)+1, 2.0))\n",
    "plt.grid(True,color='k')\n",
    "\n",
    "plt.show()"
   ]
  },
  {
   "cell_type": "code",
   "execution_count": null,
   "metadata": {
    "collapsed": true
   },
   "outputs": [],
   "source": []
  }
 ],
 "metadata": {
  "kernelspec": {
   "display_name": "Python 3",
   "language": "python",
   "name": "python3"
  },
  "language_info": {
   "codemirror_mode": {
    "name": "ipython",
    "version": 3
   },
   "file_extension": ".py",
   "mimetype": "text/x-python",
   "name": "python",
   "nbconvert_exporter": "python",
   "pygments_lexer": "ipython3",
   "version": "3.6.0"
  }
 },
 "nbformat": 4,
 "nbformat_minor": 2
}
