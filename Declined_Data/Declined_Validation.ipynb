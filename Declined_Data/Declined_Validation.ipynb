{
 "cells": [
  {
   "cell_type": "code",
   "execution_count": 1,
   "metadata": {
    "collapsed": true
   },
   "outputs": [],
   "source": [
    "import pandas as pd\n",
    "import numpy as np\n",
    "import os\n",
    "import requests\n",
    "import zipfile\n",
    "from datetime import datetime\n",
    "import io"
   ]
  },
  {
   "cell_type": "code",
   "execution_count": 16,
   "metadata": {
    "collapsed": false
   },
   "outputs": [
    {
     "name": "stdout",
     "output_type": "stream",
     "text": [
      "Validation done\n"
     ]
    }
   ],
   "source": [
    "def fill_empty_values():\n",
    "    df = pd.DataFrame()\n",
    "    df = pd.read_csv(\"CombinedRejectLoanStats.csv\",delimiter=',', encoding=\"cp1252\")\n",
    "    df['Amount Requested'].fillna(df['Amount Requested'].mean(), inplace=True)\n",
    "    df['Application Date'].fillna(method='bfill', inplace=True)\n",
    "    df['Loan Title'].fillna('NoValue', inplace=True)\n",
    "    df['Risk_Score'].fillna(0.0, inplace=True)\n",
    "    df['Zip Code'].fillna('000xx', inplace=True)\n",
    "    df['Employment Length'].replace('n/a','Unknown years', inplace=True)\n",
    "    df['Debt-To-Income Ratio'] = df['Debt-To-Income Ratio'].str.split('%',1).str[0]\n",
    "    df['Debt-To-Income Ratio']=pd.to_numeric(df['Debt-To-Income Ratio'], errors='ignore')\n",
    "    df['emp_length'] = df['Employment Length'].str.replace('+','')\n",
    "    df['emp_length'] = df.emp_length.str.replace('< 1','0')\n",
    "    df['emp_length'] = df.emp_length.str.replace('years','')\n",
    "    df['emp_length'] = df.emp_length.str.replace('year','')\n",
    "    df['emp_length'] = df.emp_length.str.replace('n/a','-1')\n",
    "\n",
    "    df['emp_length']=pd.to_numeric(df['emp_length'], errors='ignore')\n",
    "    df['Application Year']=df['Application Date'].str[0:4]\n",
    "    df = df[df.State.notnull()]\n",
    "    \n",
    "    df.to_csv('ValidatedCombinedRejectLoan.csv', index=None)\n",
    "print('Validation done')\n",
    "    "
   ]
  },
  {
   "cell_type": "markdown",
   "metadata": {
    "collapsed": true
   },
   "source": [
    "def validate_risk_score():\n",
    "    df = pd.DataFrame()\n",
    "    df = pd.read_csv(\"CombinedRejectLoanStats.csv\",delimiter=',', encoding=\"cp1252\")\n",
    "    if any(df['Risk_Score']) not in range(0,1000):\n",
    "        print(\" Risk Score value out of range\")\n",
    "    "
   ]
  },
  {
   "cell_type": "markdown",
   "metadata": {
    "collapsed": true
   },
   "source": [
    "def validate_policy_code():\n",
    "    df = pd.DataFrame()\n",
    "    df = pd.read_csv(\"CombinedRejectLoanStats.csv\",delimiter=',', encoding=\"cp1252\")\n",
    "    if any(df['Policy Code'] == 1):\n",
    "         print(\"Wrong policy code data\")\n",
    "    "
   ]
  }
 ],
 "metadata": {
  "anaconda-cloud": {},
  "kernelspec": {
   "display_name": "Python [default]",
   "language": "python",
   "name": "python3"
  },
  "language_info": {
   "codemirror_mode": {
    "name": "ipython",
    "version": 3
   },
   "file_extension": ".py",
   "mimetype": "text/x-python",
   "name": "python",
   "nbconvert_exporter": "python",
   "pygments_lexer": "ipython3",
   "version": "3.5.2"
  }
 },
 "nbformat": 4,
 "nbformat_minor": 2
}
