{
 "cells": [
  {
   "cell_type": "code",
   "execution_count": 1,
   "metadata": {
    "collapsed": false
   },
   "outputs": [
    {
     "name": "stdout",
     "output_type": "stream",
     "text": [
      "Validation done\n",
      "Declined Loan data files downloaded\n",
      "Files merged into a single file\n"
     ]
    },
    {
     "name": "stderr",
     "output_type": "stream",
     "text": [
      "DEBUG: Checking if UploadToS3() is complete\n",
      "C:\\Users\\sweta\\Anaconda3\\lib\\site-packages\\luigi\\worker.py:328: UserWarning: Task UploadToS3() without outputs has no custom complete() method\n",
      "  is_complete = task.complete()\n",
      "DEBUG: Checking if Validate_Files() is complete\n",
      "INFO: Informed scheduler that task   UploadToS3__99914b932b   has status   PENDING\n",
      "DEBUG: Checking if Download_files() is complete\n",
      "INFO: Informed scheduler that task   Validate_Files__99914b932b   has status   PENDING\n",
      "INFO: Informed scheduler that task   Download_files__99914b932b   has status   PENDING\n",
      "INFO: Done scheduling tasks\n",
      "INFO: Running Worker with 1 processes\n",
      "DEBUG: Asking scheduler for work...\n",
      "DEBUG: Pending tasks: 3\n",
      "INFO: [pid 3452] Worker Worker(salt=433037582, workers=1, host=LAPTOP-SS9RV1A2, username=sweta, pid=3452) running   Download_files()\n",
      "INFO: [pid 3452] Worker Worker(salt=433037582, workers=1, host=LAPTOP-SS9RV1A2, username=sweta, pid=3452) done      Download_files()\n",
      "DEBUG: 1 running tasks, waiting for next task to finish\n",
      "INFO: Informed scheduler that task   Download_files__99914b932b   has status   DONE\n",
      "DEBUG: Asking scheduler for work...\n",
      "DEBUG: Pending tasks: 2\n",
      "INFO: [pid 3452] Worker Worker(salt=433037582, workers=1, host=LAPTOP-SS9RV1A2, username=sweta, pid=3452) running   Validate_Files()\n"
     ]
    },
    {
     "name": "stdout",
     "output_type": "stream",
     "text": [
      "running validate method..\n"
     ]
    },
    {
     "name": "stderr",
     "output_type": "stream",
     "text": [
      "INFO: [pid 3452] Worker Worker(salt=433037582, workers=1, host=LAPTOP-SS9RV1A2, username=sweta, pid=3452) done      Validate_Files()\n",
      "DEBUG: 1 running tasks, waiting for next task to finish\n",
      "INFO: Informed scheduler that task   Validate_Files__99914b932b   has status   DONE\n",
      "DEBUG: Asking scheduler for work...\n",
      "DEBUG: Pending tasks: 1\n",
      "INFO: [pid 3452] Worker Worker(salt=433037582, workers=1, host=LAPTOP-SS9RV1A2, username=sweta, pid=3452) running   UploadToS3()\n"
     ]
    },
    {
     "name": "stdout",
     "output_type": "stream",
     "text": [
      "running validate method..\n",
      "<Key: luigibuckets,None>\n"
     ]
    },
    {
     "name": "stderr",
     "output_type": "stream",
     "text": [
      "INFO: [pid 3452] Worker Worker(salt=433037582, workers=1, host=LAPTOP-SS9RV1A2, username=sweta, pid=3452) done      UploadToS3()\n",
      "DEBUG: 1 running tasks, waiting for next task to finish\n",
      "INFO: Informed scheduler that task   UploadToS3__99914b932b   has status   DONE\n",
      "DEBUG: Asking scheduler for work...\n",
      "DEBUG: Done\n",
      "DEBUG: There are no more tasks to run at this time\n",
      "INFO: Worker Worker(salt=433037582, workers=1, host=LAPTOP-SS9RV1A2, username=sweta, pid=3452) was stopped. Shutting down Keep-Alive thread\n",
      "INFO: \n",
      "===== Luigi Execution Summary =====\n",
      "\n",
      "Scheduled 3 tasks of which:\n",
      "* 3 ran successfully:\n",
      "    - 1 Download_files()\n",
      "    - 1 UploadToS3()\n",
      "    - 1 Validate_Files()\n",
      "\n",
      "This progress looks :) because there were no failed tasks or missing external dependencies\n",
      "\n",
      "===== Luigi Execution Summary =====\n",
      "\n"
     ]
    }
   ],
   "source": [
    "# Filename: run_luigi.py\n",
    "import luigi\n",
    "\n",
    "import Declined_Validation as validate\n",
    "import Declined_Merge_File as merge_file\n",
    "import Declined_Loan_S3_Upoad_File as s3\n",
    "import time\n",
    "\n",
    "\n",
    "\n",
    "class Download_files(luigi.Task):\n",
    "     \n",
    "    def requires(self):\n",
    "        return []\n",
    "\n",
    "    \n",
    "    def output(self):\n",
    "        return luigi.LocalTarget(\"CombinedRejectLoanStats.csv\")\n",
    "    \n",
    "    def run(self):\n",
    "        merge_file.download_declineddata()\n",
    "        merge_file.declinedata_merge()\n",
    "        \n",
    "class Validate_Files(luigi.Task):\n",
    "     \n",
    "    def requires(self):\n",
    "        return [Download_files()]\n",
    "    \n",
    "    def output(self):\n",
    "        return luigi.LocalTarget(\"ValidatedCombinedRejectLoan.csv\")\n",
    "\n",
    "    def run(self):\n",
    "        print(\"running validate method..\")\n",
    "        validate.fill_empty_values()\n",
    "        \n",
    "    \n",
    "\n",
    "class UploadToS3(luigi.Task):\n",
    "    #awsKey = luigi.Parameter(config_path=dict(section='path', names='aws_key'))\n",
    "    #awsSecret = luigi.Parameter(config_path=dict(section='path', names='aws_secret'))\n",
    "    def requires(self):\n",
    "        time.sleep(20)\n",
    "        return [Validate_Files()]\n",
    "\n",
    "    def run(self):\n",
    "        print(\"running validate method..\")\n",
    "        s3.uploadToS3()\n",
    "        \n",
    "      \n",
    "        \n",
    "\n",
    "    \n",
    "                \n",
    "if __name__ == '__main__':\n",
    "    luigi.run(['UploadToS3','--local-scheduler'])"
   ]
  },
  {
   "cell_type": "code",
   "execution_count": null,
   "metadata": {
    "collapsed": true
   },
   "outputs": [],
   "source": []
  }
 ],
 "metadata": {
  "anaconda-cloud": {},
  "kernelspec": {
   "display_name": "Python [conda root]",
   "language": "python",
   "name": "conda-root-py"
  },
  "language_info": {
   "codemirror_mode": {
    "name": "ipython",
    "version": 3
   },
   "file_extension": ".py",
   "mimetype": "text/x-python",
   "name": "python",
   "nbconvert_exporter": "python",
   "pygments_lexer": "ipython3",
   "version": "3.5.2"
  }
 },
 "nbformat": 4,
 "nbformat_minor": 2
}
