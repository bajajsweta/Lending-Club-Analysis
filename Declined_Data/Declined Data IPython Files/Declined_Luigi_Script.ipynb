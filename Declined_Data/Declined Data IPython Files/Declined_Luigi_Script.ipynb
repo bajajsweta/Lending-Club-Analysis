{
 "cells": [
  {
   "cell_type": "code",
   "execution_count": null,
   "metadata": {
    "collapsed": true
   },
   "outputs": [],
   "source": [
    "# Filename: run_luigi.py\n",
    "import luigi\n",
    "\n",
    "import Declined_Validation as validate\n",
    "import Declined_Merge_File as merge_file\n",
    "\n",
    "class Download_files(luigi.Task):\n",
    "     \n",
    "    def requires(self):\n",
    "        return []\n",
    "\n",
    "    \n",
    "    def output(self):\n",
    "        return luigi.LocalTarget(\"CombinedRejectLoanStats.csv\")\n",
    "    \n",
    "    def run(self):\n",
    "        merge_file.download_declineddata()\n",
    "        merge_file.declinedata_merge()\n",
    "        \n",
    "class Validate_Files(luigi.Task):\n",
    "     \n",
    "    def requires(self):\n",
    "        return [Download_files()]\n",
    "\n",
    "    def run(self):\n",
    "        print(\"running validate method..\")\n",
    "        validate.fill_empty_values()\n",
    "    \n",
    "                \n",
    "if __name__ == '__main__':\n",
    "    luigi.run(['Validate_Files','--local-scheduler'])"
   ]
  }
 ],
 "metadata": {
  "anaconda-cloud": {},
  "kernelspec": {
   "display_name": "Python [conda root]",
   "language": "python",
   "name": "conda-root-py"
  },
  "language_info": {
   "codemirror_mode": {
    "name": "ipython",
    "version": 3
   },
   "file_extension": ".py",
   "mimetype": "text/x-python",
   "name": "python",
   "nbconvert_exporter": "python",
   "pygments_lexer": "ipython3",
   "version": "3.5.2"
  }
 },
 "nbformat": 4,
 "nbformat_minor": 2
}
