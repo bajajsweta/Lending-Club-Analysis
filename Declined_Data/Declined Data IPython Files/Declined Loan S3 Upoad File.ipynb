{
 "cells": [
  {
   "cell_type": "code",
   "execution_count": null,
   "metadata": {
    "collapsed": true
   },
   "outputs": [],
   "source": [
    "import boto\n",
    "from boto.s3.connection import S3Connection\n",
    "from boto.s3.connection import Key"
   ]
  },
  {
   "cell_type": "code",
   "execution_count": null,
   "metadata": {
    "collapsed": false
   },
   "outputs": [],
   "source": [
    "def uploadToS3():\n",
    "    awsKey = '*'\n",
    "    awsSecret = '*'\n",
    "    \n",
    "    conn = S3Connection(awsKey,awsSecret)\n",
    "        #print(conn)\n",
    "        \n",
    "        #Connecting to a bucket\n",
    "    bucket_name = \"luigibuckets\"\n",
    "    bucket = conn.get_bucket(bucket_name)\n",
    "        #print(bucket)\n",
    "        #Setting the keys\n",
    "    k = Key(bucket)\n",
    "    print (k)\n",
    "    k.key = \"ValidatedCombinedRejectLoan.csv\"\n",
    "    k.set_contents_from_filename(\"ValidatedCombinedRejectLoan.csv\")"
   ]
  },
  {
   "cell_type": "code",
   "execution_count": null,
   "metadata": {
    "collapsed": true
   },
   "outputs": [],
   "source": []
  }
 ],
 "metadata": {
  "kernelspec": {
   "display_name": "Python [default]",
   "language": "python",
   "name": "python3"
  },
  "language_info": {
   "codemirror_mode": {
    "name": "ipython",
    "version": 3
   },
   "file_extension": ".py",
   "mimetype": "text/x-python",
   "name": "python",
   "nbconvert_exporter": "python",
   "pygments_lexer": "ipython3",
   "version": "3.5.2"
  }
 },
 "nbformat": 4,
 "nbformat_minor": 1
}
