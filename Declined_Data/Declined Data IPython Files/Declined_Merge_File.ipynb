{
 "cells": [
  {
   "cell_type": "code",
   "execution_count": 1,
   "metadata": {
    "collapsed": true
   },
   "outputs": [],
   "source": [
    "import pandas as pd\n",
    "import numpy as np\n",
    "import os\n",
    "import requests\n",
    "import zipfile\n",
    "from datetime import datetime\n",
    "import io"
   ]
  },
  {
   "cell_type": "code",
   "execution_count": 2,
   "metadata": {
    "collapsed": false
   },
   "outputs": [
    {
     "name": "stdout",
     "output_type": "stream",
     "text": [
      "Declined Loan data files downloaded\n"
     ]
    }
   ],
   "source": [
    "def download_declineddata():\n",
    "    s = requests.session()\n",
    "    years = ['A','B','D']\n",
    "\n",
    "    for year in years:\n",
    "        url3 = 'https://resources.lendingclub.com/RejectStats'+str(year)+'.csv.zip'\n",
    "        file = s.get(url3)\n",
    "        m=zipfile.ZipFile(io.BytesIO(file.content))\n",
    "        m.extractall()\n",
    "        \n",
    "    years1 = [1,2,3,4]\n",
    "    for year1 in years1:\n",
    "        url3 = 'https://resources.lendingclub.com/RejectStats_2016Q'+str(year1)+'.csv.zip'\n",
    "        file = s.get(url3)\n",
    "        m=zipfile.ZipFile(io.BytesIO(file.content))\n",
    "        m.extractall()\n",
    "print('Declined Loan data files downloaded')"
   ]
  },
  {
   "cell_type": "code",
   "execution_count": 3,
   "metadata": {
    "collapsed": false
   },
   "outputs": [
    {
     "name": "stdout",
     "output_type": "stream",
     "text": [
      "Files merged into a single file\n"
     ]
    }
   ],
   "source": [
    "def declinedata_merge():\n",
    "    declinedloans_file = [file for file in os.listdir() if file.startswith('Reject')]\n",
    "    df = pd.DataFrame()\n",
    "    for i in range(len(declinedloans_file)):\n",
    "        data = pd.read_csv(declinedloans_file[i],delimiter=',',skiprows=1)\n",
    "        df = df.append(data)\n",
    "        df['time_stamp'] = datetime.now().strftime(\"%Y-%m-%d %H:%M:%S\")\n",
    "    df.head(3)\n",
    "    df.to_csv('CombinedRejectLoanStats.csv', index=None)\n",
    "print('Files merged into a single file')"
   ]
  },
  {
   "cell_type": "code",
   "execution_count": null,
   "metadata": {
    "collapsed": true
   },
   "outputs": [],
   "source": [
    "\n"
   ]
  },
  {
   "cell_type": "code",
   "execution_count": null,
   "metadata": {
    "collapsed": true
   },
   "outputs": [],
   "source": []
  }
 ],
 "metadata": {
  "anaconda-cloud": {},
  "kernelspec": {
   "display_name": "Python [default]",
   "language": "python",
   "name": "python3"
  },
  "language_info": {
   "codemirror_mode": {
    "name": "ipython",
    "version": 3
   },
   "file_extension": ".py",
   "mimetype": "text/x-python",
   "name": "python",
   "nbconvert_exporter": "python",
   "pygments_lexer": "ipython3",
   "version": "3.5.2"
  }
 },
 "nbformat": 4,
 "nbformat_minor": 2
}
