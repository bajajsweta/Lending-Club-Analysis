{
 "cells": [
  {
   "cell_type": "code",
   "execution_count": 2,
   "metadata": {
    "collapsed": true
   },
   "outputs": [],
   "source": [
    "import pandas as pd\n",
    "import numpy as np\n",
    "import os\n",
    "import requests\n",
    "import zipfile\n",
    "from datetime import datetime\n",
    "import io"
   ]
  },
  {
   "cell_type": "code",
   "execution_count": 3,
   "metadata": {
    "collapsed": false
   },
   "outputs": [
    {
     "name": "stdout",
     "output_type": "stream",
     "text": [
      "Declined Loan data files downloaded\n"
     ]
    }
   ],
   "source": [
    "def download_declineddata():\n",
    "    s = requests.session()\n",
    "    years = ['A','B','D']\n",
    "\n",
    "    for year in years:\n",
    "        url3 = 'https://resources.lendingclub.com/RejectStats'+str(year)+'.csv.zip'\n",
    "        file = s.get(url3)\n",
    "        m=zipfile.ZipFile(io.BytesIO(file.content))\n",
    "        m.extractall()\n",
    "        \n",
    "    years1 = [1,2,3,4]\n",
    "    for year1 in years1:\n",
    "        url3 = 'https://resources.lendingclub.com/RejectStats_2016Q'+str(year1)+'.csv.zip'\n",
    "        file = s.get(url3)\n",
    "        m=zipfile.ZipFile(io.BytesIO(file.content))\n",
    "        m.extractall()\n",
    "print('Declined Loan data files downloaded')"
   ]
  },
  {
   "cell_type": "code",
   "execution_count": 12,
   "metadata": {
    "collapsed": false
   },
   "outputs": [
    {
     "name": "stdout",
     "output_type": "stream",
     "text": [
      "Files merged into a single file\n"
     ]
    }
   ],
   "source": [
    "def declinedata_merge():\n",
    "    declinedloans_file = [file for file in os.listdir() if file.startswith('Reject')]\n",
    "    df = pd.DataFrame()\n",
    "    for i in range(len(declinedloans_file)):\n",
    "        data = pd.read_csv(declinedloans_file[i],delimiter=',',skiprows=1)\n",
    "        df = df.append(data)\n",
    "        df['time_stamp'] = datetime.now().strftime(\"%Y-%m-%d %H:%M:%S\")\n",
    "    df.head(3)\n",
    "    df.to_csv('CombinedRejectLoanStats.csv', index=None)\n",
    "print('Files merged into a single file')"
   ]
  },
  {
   "cell_type": "code",
   "execution_count": 14,
   "metadata": {
    "collapsed": false
   },
   "outputs": [
    {
     "data": {
      "text/html": [
       "<div>\n",
       "<table border=\"1\" class=\"dataframe\">\n",
       "  <thead>\n",
       "    <tr style=\"text-align: right;\">\n",
       "      <th></th>\n",
       "      <th>Amount Requested</th>\n",
       "      <th>Application Date</th>\n",
       "      <th>Debt-To-Income Ratio</th>\n",
       "      <th>Employment Length</th>\n",
       "      <th>Loan Title</th>\n",
       "      <th>Policy Code</th>\n",
       "      <th>Risk_Score</th>\n",
       "      <th>State</th>\n",
       "      <th>Zip Code</th>\n",
       "      <th>time_stamp</th>\n",
       "    </tr>\n",
       "  </thead>\n",
       "  <tbody>\n",
       "    <tr>\n",
       "      <th>0</th>\n",
       "      <td>1000.0</td>\n",
       "      <td>2007-05-26</td>\n",
       "      <td>10%</td>\n",
       "      <td>4 years</td>\n",
       "      <td>Wedding Covered but No Honeymoon</td>\n",
       "      <td>0</td>\n",
       "      <td>693.0</td>\n",
       "      <td>NM</td>\n",
       "      <td>481xx</td>\n",
       "      <td>2017-04-06 20:01:15</td>\n",
       "    </tr>\n",
       "    <tr>\n",
       "      <th>1</th>\n",
       "      <td>1000.0</td>\n",
       "      <td>2007-05-26</td>\n",
       "      <td>10%</td>\n",
       "      <td>&lt; 1 year</td>\n",
       "      <td>Consolidating Debt</td>\n",
       "      <td>0</td>\n",
       "      <td>703.0</td>\n",
       "      <td>MA</td>\n",
       "      <td>010xx</td>\n",
       "      <td>2017-04-06 20:01:15</td>\n",
       "    </tr>\n",
       "  </tbody>\n",
       "</table>\n",
       "</div>"
      ],
      "text/plain": [
       "   Amount Requested Application Date Debt-To-Income Ratio Employment Length  \\\n",
       "0            1000.0       2007-05-26                  10%           4 years   \n",
       "1            1000.0       2007-05-26                  10%          < 1 year   \n",
       "\n",
       "                         Loan Title  Policy Code  Risk_Score State Zip Code  \\\n",
       "0  Wedding Covered but No Honeymoon            0       693.0    NM    481xx   \n",
       "1                Consolidating Debt            0       703.0    MA    010xx   \n",
       "\n",
       "            time_stamp  \n",
       "0  2017-04-06 20:01:15  \n",
       "1  2017-04-06 20:01:15  "
      ]
     },
     "execution_count": 14,
     "metadata": {},
     "output_type": "execute_result"
    }
   ],
   "source": [
    "\n",
    "df1 = pd.DataFrame()\n",
    "df1 = pd.read_csv(\"CombinedRejectLoanStats.csv\",delimiter=',', encoding=\"cp1252\")\n",
    "df1.head(2)"
   ]
  },
  {
   "cell_type": "code",
   "execution_count": null,
   "metadata": {
    "collapsed": true
   },
   "outputs": [],
   "source": []
  }
 ],
 "metadata": {
  "kernelspec": {
   "display_name": "Python 3",
   "language": "python",
   "name": "python3"
  },
  "language_info": {
   "codemirror_mode": {
    "name": "ipython",
    "version": 3
   },
   "file_extension": ".py",
   "mimetype": "text/x-python",
   "name": "python",
   "nbconvert_exporter": "python",
   "pygments_lexer": "ipython3",
   "version": "3.6.0"
  }
 },
 "nbformat": 4,
 "nbformat_minor": 2
}
